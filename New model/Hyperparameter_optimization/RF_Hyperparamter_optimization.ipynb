{
 "cells": [
  {
   "cell_type": "code",
   "execution_count": 7,
   "metadata": {},
   "outputs": [],
   "source": [
    "import os\n",
    "import pandas as pd\n",
    "import numpy as np\n",
    "import sys\n",
    "from sklearn.ensemble import RandomForestRegressor\n",
    "from sklearn.model_selection import GridSearchCV\n",
    "from sklearn.model_selection import HalvingGridSearchCV\n",
    "\n",
    "from sklearn import metrics   \n",
    "\n",
    "\n",
    "\n",
    "sys.path.append('..')\n",
    "from Workflow import Workflow"
   ]
  },
  {
   "cell_type": "code",
   "execution_count": 8,
   "metadata": {},
   "outputs": [],
   "source": [
    "wf = Workflow()\n",
    "Xtrain, ytrain, Xvalid, yvalid, Xtest, ytest = wf.load_data()"
   ]
  },
  {
   "cell_type": "code",
   "execution_count": 9,
   "metadata": {},
   "outputs": [],
   "source": [
    "def optimize_rf_model(X, y, param_grid, cv=5, scoring='neg_mean_squared_error', n_jobs=-1, seed=42):\n",
    "    estimator = RandomForestRegressor(random_state=seed)  \n",
    "\n",
    "    # Use HalvingGridSearchCV for hyperparameter optimization\n",
    "    grid_search = HalvingGridSearchCV(\n",
    "        estimator=estimator,\n",
    "        param_grid=param_grid,\n",
    "        cv=cv,\n",
    "        scoring=scoring,\n",
    "        n_jobs=n_jobs,\n",
    "        aggressive_elimination=True,\n",
    "        verbose=3 \n",
    "    )\n",
    "    \n",
    "    # Fit the model to the data\n",
    "    grid_search.fit(X, y)\n",
    "    \n",
    "    # Output the results\n",
    "    print(f'Best parameters found: {grid_search.best_params_}')\n",
    "    print(f'Best score: {grid_search.best_score_}')\n",
    "    \n",
    "    return grid_search.best_estimator_"
   ]
  },
  {
   "cell_type": "code",
   "execution_count": 11,
   "metadata": {},
   "outputs": [
    {
     "name": "stdout",
     "output_type": "stream",
     "text": [
      "n_iterations: 4\n",
      "n_required_iterations: 4\n",
      "n_possible_iterations: 4\n",
      "min_resources_: 2920\n",
      "max_resources_: 78854\n",
      "aggressive_elimination: True\n",
      "factor: 3\n",
      "----------\n",
      "iter: 0\n",
      "n_candidates: 72\n",
      "n_resources: 2920\n",
      "Fitting 5 folds for each of 72 candidates, totalling 360 fits\n",
      "----------\n",
      "iter: 1\n",
      "n_candidates: 24\n",
      "n_resources: 8760\n",
      "Fitting 5 folds for each of 24 candidates, totalling 120 fits\n",
      "----------\n",
      "iter: 2\n",
      "n_candidates: 8\n",
      "n_resources: 26280\n",
      "Fitting 5 folds for each of 8 candidates, totalling 40 fits\n",
      "----------\n",
      "iter: 3\n",
      "n_candidates: 3\n",
      "n_resources: 78840\n",
      "Fitting 5 folds for each of 3 candidates, totalling 15 fits\n",
      "Best parameters found: {'bootstrap': False, 'max_depth': 60, 'max_features': 'log2', 'min_samples_leaf': 6, 'min_samples_split': 4, 'n_estimators': 70}\n",
      "Best score: -2766.5688881803485\n",
      "Training R2 Score: 0.8468822648264323\n",
      "Validation RMSE: 53.62286402599687\n",
      "Validation R2 Score: 0.6996384523645774\n",
      "Test R2 Score: 0.7347727623089177\n"
     ]
    }
   ],
   "source": [
    "param_grid = {\n",
    "    'n_estimators': [70, 90, 110], \n",
    "    'max_depth': [40, 50, 60],\n",
    "    'max_features': ['log2'],\n",
    "    'min_samples_leaf': [4, 6],\n",
    "    'min_samples_split': [4, 6],\n",
    "    'bootstrap': [False,True], \n",
    "}\n",
    "\n",
    "\n",
    "# Use the optimize_rf_model function to find the best model\n",
    "seed = 42\n",
    "best_model = optimize_rf_model(Xtrain, ytrain, param_grid, cv=5, scoring='neg_mean_squared_error', n_jobs=-1,seed=seed)\n",
    "\n",
    "# Evaluate the best model on the training set\n",
    "y_train_pred = best_model.predict(Xtrain)\n",
    "train_r2 = metrics.r2_score(ytrain, y_train_pred)\n",
    "\n",
    "# Evaluate the best model on the validation set\n",
    "y_valid_pred = best_model.predict(Xvalid)\n",
    "validation_rmse = np.sqrt(metrics.mean_squared_error(yvalid, y_valid_pred))\n",
    "validation_r2 = metrics.r2_score(yvalid, y_valid_pred)\n",
    "\n",
    "# Evaluate the best model on the test set\n",
    "y_test_pred = best_model.predict(Xtest)\n",
    "test_r2 = metrics.r2_score(ytest, y_test_pred)\n",
    "\n",
    "# Print the results\n",
    "print(\"Training R2 Score:\", train_r2)\n",
    "print(\"Validation RMSE:\", validation_rmse)\n",
    "print(\"Validation R2 Score:\", validation_r2)\n",
    "print(\"Test R2 Score:\", test_r2)"
   ]
  }
 ],
 "metadata": {
  "kernelspec": {
   "display_name": "dsaie",
   "language": "python",
   "name": "python3"
  },
  "language_info": {
   "codemirror_mode": {
    "name": "ipython",
    "version": 3
   },
   "file_extension": ".py",
   "mimetype": "text/x-python",
   "name": "python",
   "nbconvert_exporter": "python",
   "pygments_lexer": "ipython3",
   "version": "3.9.17"
  }
 },
 "nbformat": 4,
 "nbformat_minor": 2
}
