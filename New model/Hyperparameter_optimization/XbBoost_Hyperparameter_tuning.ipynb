{
 "cells": [
  {
   "cell_type": "markdown",
   "metadata": {},
   "source": [
    "## Finding optimal hyperparameters for XGBoost"
   ]
  },
  {
   "cell_type": "code",
   "execution_count": 17,
   "metadata": {},
   "outputs": [],
   "source": [
    "import os\n",
    "import sys\n",
    "import numpy as np  \n",
    "import xgboost as xgb\n",
    "from xgboost.sklearn import XGBRegressor\n",
    "from sklearn import metrics   \n",
    "from sklearn.model_selection import HalvingGridSearchCV\n",
    "from sklearn.model_selection import GridSearchCV\n",
    "\n",
    "sys.path.append('..')\n",
    "\n",
    "from Workflow import Workflow"
   ]
  },
  {
   "cell_type": "code",
   "execution_count": 18,
   "metadata": {},
   "outputs": [],
   "source": [
    "wf = Workflow()\n",
    "Xtrain, ytrain, Xvalid, yvalid, Xtest, ytest = wf.load_data()"
   ]
  },
  {
   "cell_type": "code",
   "execution_count": 19,
   "metadata": {},
   "outputs": [],
   "source": [
    "def optimize_xgb_model(X, y, param_grid, cv=5, scoring='r2', n_jobs=-1, random_state=None):\n",
    "    xgb = XGBRegressor()\n",
    "    grid_search = HalvingGridSearchCV(\n",
    "        estimator=xgb, \n",
    "        param_grid=param_grid, \n",
    "        cv=cv, \n",
    "        scoring=scoring, \n",
    "        n_jobs=n_jobs, \n",
    "        verbose=1, \n",
    "        aggressive_elimination=True, \n",
    "        random_state=random_state \n",
    "    )\n",
    "    grid_search.fit(X, y)\n",
    "    print(f'Best parameters found: {grid_search.best_params_}')\n",
    "    print(f'Best score: {grid_search.best_score_}')\n",
    "    return grid_search.best_estimator_"
   ]
  },
  {
   "cell_type": "code",
   "execution_count": 20,
   "metadata": {},
   "outputs": [
    {
     "name": "stdout",
     "output_type": "stream",
     "text": [
      "n_iterations: 9\n",
      "n_required_iterations: 9\n",
      "n_possible_iterations: 9\n",
      "min_resources_: 12\n",
      "max_resources_: 78854\n",
      "aggressive_elimination: True\n",
      "factor: 3\n",
      "----------\n",
      "iter: 0\n",
      "n_candidates: 6561\n",
      "n_resources: 12\n",
      "Fitting 5 folds for each of 6561 candidates, totalling 32805 fits\n"
     ]
    },
    {
     "name": "stderr",
     "output_type": "stream",
     "text": [
      "c:\\Users\\tobia\\anaconda3\\envs\\dsaie\\lib\\site-packages\\sklearn\\model_selection\\_validation.py:540: FitFailedWarning: \n",
      "1 fits failed out of a total of 32805.\n",
      "The score on these train-test partitions for these parameters will be set to nan.\n",
      "If these failures are not expected, you can try to debug them by setting error_score='raise'.\n",
      "\n",
      "Below are more details about the failures:\n",
      "--------------------------------------------------------------------------------\n",
      "1 fits failed with the following error:\n",
      "Traceback (most recent call last):\n",
      "  File \"c:\\Users\\tobia\\anaconda3\\envs\\dsaie\\lib\\site-packages\\sklearn\\model_selection\\_validation.py\", line 888, in _fit_and_score\n",
      "    estimator.fit(X_train, y_train, **fit_params)\n",
      "  File \"c:\\Users\\tobia\\anaconda3\\envs\\dsaie\\lib\\site-packages\\xgboost\\core.py\", line 726, in inner_f\n",
      "    return func(**kwargs)\n",
      "  File \"c:\\Users\\tobia\\anaconda3\\envs\\dsaie\\lib\\site-packages\\xgboost\\sklearn.py\", line 1081, in fit\n",
      "    train_dmatrix, evals = _wrap_evaluation_matrices(\n",
      "  File \"c:\\Users\\tobia\\anaconda3\\envs\\dsaie\\lib\\site-packages\\xgboost\\sklearn.py\", line 596, in _wrap_evaluation_matrices\n",
      "    train_dmatrix = create_dmatrix(\n",
      "  File \"c:\\Users\\tobia\\anaconda3\\envs\\dsaie\\lib\\site-packages\\xgboost\\sklearn.py\", line 1003, in _create_dmatrix\n",
      "    return QuantileDMatrix(\n",
      "  File \"c:\\Users\\tobia\\anaconda3\\envs\\dsaie\\lib\\site-packages\\xgboost\\core.py\", line 726, in inner_f\n",
      "    return func(**kwargs)\n",
      "  File \"c:\\Users\\tobia\\anaconda3\\envs\\dsaie\\lib\\site-packages\\xgboost\\core.py\", line 1573, in __init__\n",
      "    self._init(\n",
      "  File \"c:\\Users\\tobia\\anaconda3\\envs\\dsaie\\lib\\site-packages\\xgboost\\core.py\", line 1632, in _init\n",
      "    it.reraise()\n",
      "  File \"c:\\Users\\tobia\\anaconda3\\envs\\dsaie\\lib\\site-packages\\xgboost\\core.py\", line 569, in reraise\n",
      "    raise exc  # pylint: disable=raising-bad-type\n",
      "  File \"c:\\Users\\tobia\\anaconda3\\envs\\dsaie\\lib\\site-packages\\xgboost\\core.py\", line 550, in _handle_exception\n",
      "    return fn()\n",
      "  File \"c:\\Users\\tobia\\anaconda3\\envs\\dsaie\\lib\\site-packages\\xgboost\\core.py\", line 637, in <lambda>\n",
      "    return self._handle_exception(lambda: self.next(input_data), 0)\n",
      "  File \"c:\\Users\\tobia\\anaconda3\\envs\\dsaie\\lib\\site-packages\\xgboost\\data.py\", line 1402, in next\n",
      "    input_data(**self.kwargs)\n",
      "  File \"c:\\Users\\tobia\\anaconda3\\envs\\dsaie\\lib\\site-packages\\xgboost\\core.py\", line 726, in inner_f\n",
      "    return func(**kwargs)\n",
      "  File \"c:\\Users\\tobia\\anaconda3\\envs\\dsaie\\lib\\site-packages\\xgboost\\core.py\", line 626, in input_data\n",
      "    self.proxy.set_info(\n",
      "  File \"c:\\Users\\tobia\\anaconda3\\envs\\dsaie\\lib\\site-packages\\xgboost\\core.py\", line 726, in inner_f\n",
      "    return func(**kwargs)\n",
      "  File \"c:\\Users\\tobia\\anaconda3\\envs\\dsaie\\lib\\site-packages\\xgboost\\core.py\", line 954, in set_info\n",
      "    self.set_label(label)\n",
      "  File \"c:\\Users\\tobia\\anaconda3\\envs\\dsaie\\lib\\site-packages\\xgboost\\core.py\", line 1092, in set_label\n",
      "    dispatch_meta_backend(self, label, \"label\", \"float\")\n",
      "  File \"c:\\Users\\tobia\\anaconda3\\envs\\dsaie\\lib\\site-packages\\xgboost\\data.py\", line 1348, in dispatch_meta_backend\n",
      "    _meta_from_pandas_series(data, name, dtype, handle)\n",
      "  File \"c:\\Users\\tobia\\anaconda3\\envs\\dsaie\\lib\\site-packages\\xgboost\\data.py\", line 679, in _meta_from_pandas_series\n",
      "    _meta_from_numpy(data, name, dtype, handle)\n",
      "  File \"c:\\Users\\tobia\\anaconda3\\envs\\dsaie\\lib\\site-packages\\xgboost\\data.py\", line 1279, in _meta_from_numpy\n",
      "    _check_call(_LIB.XGDMatrixSetInfoFromInterface(handle, c_str(field), interface_str))\n",
      "  File \"c:\\Users\\tobia\\anaconda3\\envs\\dsaie\\lib\\site-packages\\xgboost\\core.py\", line 284, in _check_call\n",
      "    raise XGBoostError(py_str(_LIB.XGBGetLastError()))\n",
      "xgboost.core.XGBoostError: [09:40:17] C:\\buildkite-agent\\builds\\buildkite-windows-cpu-autoscaling-group-i-0c55ff5f71b100e98-1\\xgboost\\xgboost-ci-windows\\src\\data\\array_interface.cu:44: Check failed: err == cudaGetLastError() (0 vs. 46) : \n",
      "\n",
      "  warnings.warn(some_fits_failed_message, FitFailedWarning)\n",
      "c:\\Users\\tobia\\anaconda3\\envs\\dsaie\\lib\\site-packages\\sklearn\\model_selection\\_search.py:1103: UserWarning: One or more of the test scores are non-finite: [ -984.63754009            nan -1024.00206174 ... -1056.29469394\n",
      " -1056.29469394 -1056.29469394]\n",
      "  warnings.warn(\n",
      "c:\\Users\\tobia\\anaconda3\\envs\\dsaie\\lib\\site-packages\\sklearn\\model_selection\\_search.py:1103: UserWarning: One or more of the train scores are non-finite: [-2.58727107e-03             nan -1.93236761e-03 ... -1.55431223e-16\n",
      " -1.55431223e-16 -1.55431223e-16]\n",
      "  warnings.warn(\n"
     ]
    },
    {
     "name": "stdout",
     "output_type": "stream",
     "text": [
      "----------\n",
      "iter: 1\n",
      "n_candidates: 2187\n",
      "n_resources: 36\n",
      "Fitting 5 folds for each of 2187 candidates, totalling 10935 fits\n"
     ]
    },
    {
     "name": "stderr",
     "output_type": "stream",
     "text": [
      "c:\\Users\\tobia\\anaconda3\\envs\\dsaie\\lib\\site-packages\\sklearn\\model_selection\\_search.py:1103: UserWarning: One or more of the test scores are non-finite: [ -984.63754009            nan -1024.00206174 ...   -19.55821527\n",
      "   -22.95043106   -19.97649109]\n",
      "  warnings.warn(\n",
      "c:\\Users\\tobia\\anaconda3\\envs\\dsaie\\lib\\site-packages\\sklearn\\model_selection\\_search.py:1103: UserWarning: One or more of the train scores are non-finite: [-0.00258727         nan -0.00193237 ...  0.88589292  0.89718349\n",
      "  0.88020156]\n",
      "  warnings.warn(\n"
     ]
    },
    {
     "name": "stdout",
     "output_type": "stream",
     "text": [
      "----------\n",
      "iter: 2\n",
      "n_candidates: 729\n",
      "n_resources: 108\n",
      "Fitting 5 folds for each of 729 candidates, totalling 3645 fits\n"
     ]
    },
    {
     "name": "stderr",
     "output_type": "stream",
     "text": [
      "c:\\Users\\tobia\\anaconda3\\envs\\dsaie\\lib\\site-packages\\sklearn\\model_selection\\_search.py:1103: UserWarning: One or more of the test scores are non-finite: [-9.84637540e+02             nan -1.02400206e+03 ...  2.56138264e-01\n",
      "  2.56138264e-01  2.56138264e-01]\n",
      "  warnings.warn(\n",
      "c:\\Users\\tobia\\anaconda3\\envs\\dsaie\\lib\\site-packages\\sklearn\\model_selection\\_search.py:1103: UserWarning: One or more of the train scores are non-finite: [-0.00258727         nan -0.00193237 ...  0.5960771   0.5960771\n",
      "  0.5960771 ]\n",
      "  warnings.warn(\n"
     ]
    },
    {
     "name": "stdout",
     "output_type": "stream",
     "text": [
      "----------\n",
      "iter: 3\n",
      "n_candidates: 243\n",
      "n_resources: 324\n",
      "Fitting 5 folds for each of 243 candidates, totalling 1215 fits\n"
     ]
    },
    {
     "name": "stderr",
     "output_type": "stream",
     "text": [
      "c:\\Users\\tobia\\anaconda3\\envs\\dsaie\\lib\\site-packages\\sklearn\\model_selection\\_search.py:1103: UserWarning: One or more of the test scores are non-finite: [-9.84637540e+02             nan -1.02400206e+03 ...  4.38957993e-01\n",
      "  4.39188609e-01  4.37322984e-01]\n",
      "  warnings.warn(\n",
      "c:\\Users\\tobia\\anaconda3\\envs\\dsaie\\lib\\site-packages\\sklearn\\model_selection\\_search.py:1103: UserWarning: One or more of the train scores are non-finite: [-0.00258727         nan -0.00193237 ...  0.84162334  0.84160502\n",
      "  0.84142755]\n",
      "  warnings.warn(\n"
     ]
    },
    {
     "name": "stdout",
     "output_type": "stream",
     "text": [
      "----------\n",
      "iter: 4\n",
      "n_candidates: 81\n",
      "n_resources: 972\n",
      "Fitting 5 folds for each of 81 candidates, totalling 405 fits\n"
     ]
    },
    {
     "name": "stderr",
     "output_type": "stream",
     "text": [
      "c:\\Users\\tobia\\anaconda3\\envs\\dsaie\\lib\\site-packages\\sklearn\\model_selection\\_search.py:1103: UserWarning: One or more of the test scores are non-finite: [-9.84637540e+02             nan -1.02400206e+03 ...  5.76551077e-01\n",
      "  5.73698410e-01  5.73795814e-01]\n",
      "  warnings.warn(\n",
      "c:\\Users\\tobia\\anaconda3\\envs\\dsaie\\lib\\site-packages\\sklearn\\model_selection\\_search.py:1103: UserWarning: One or more of the train scores are non-finite: [-0.00258727         nan -0.00193237 ...  0.90484803  0.8479263\n",
      "  0.84652089]\n",
      "  warnings.warn(\n"
     ]
    },
    {
     "name": "stdout",
     "output_type": "stream",
     "text": [
      "----------\n",
      "iter: 5\n",
      "n_candidates: 27\n",
      "n_resources: 2916\n",
      "Fitting 5 folds for each of 27 candidates, totalling 135 fits\n"
     ]
    },
    {
     "name": "stderr",
     "output_type": "stream",
     "text": [
      "c:\\Users\\tobia\\anaconda3\\envs\\dsaie\\lib\\site-packages\\sklearn\\model_selection\\_search.py:1103: UserWarning: One or more of the test scores are non-finite: [-9.84637540e+02             nan -1.02400206e+03 ...  6.20291968e-01\n",
      "  6.21683975e-01  6.21840422e-01]\n",
      "  warnings.warn(\n",
      "c:\\Users\\tobia\\anaconda3\\envs\\dsaie\\lib\\site-packages\\sklearn\\model_selection\\_search.py:1103: UserWarning: One or more of the train scores are non-finite: [-0.00258727         nan -0.00193237 ...  0.87658348  0.88190036\n",
      "  0.88165181]\n",
      "  warnings.warn(\n"
     ]
    },
    {
     "name": "stdout",
     "output_type": "stream",
     "text": [
      "----------\n",
      "iter: 6\n",
      "n_candidates: 9\n",
      "n_resources: 8748\n",
      "Fitting 5 folds for each of 9 candidates, totalling 45 fits\n"
     ]
    },
    {
     "name": "stderr",
     "output_type": "stream",
     "text": [
      "c:\\Users\\tobia\\anaconda3\\envs\\dsaie\\lib\\site-packages\\sklearn\\model_selection\\_search.py:1103: UserWarning: One or more of the test scores are non-finite: [-9.84637540e+02             nan -1.02400206e+03 ...  6.50044023e-01\n",
      "  6.49882845e-01  6.49579472e-01]\n",
      "  warnings.warn(\n",
      "c:\\Users\\tobia\\anaconda3\\envs\\dsaie\\lib\\site-packages\\sklearn\\model_selection\\_search.py:1103: UserWarning: One or more of the train scores are non-finite: [-0.00258727         nan -0.00193237 ...  0.86459307  0.86446118\n",
      "  0.86433875]\n",
      "  warnings.warn(\n"
     ]
    },
    {
     "name": "stdout",
     "output_type": "stream",
     "text": [
      "----------\n",
      "iter: 7\n",
      "n_candidates: 3\n",
      "n_resources: 26244\n",
      "Fitting 5 folds for each of 3 candidates, totalling 15 fits\n"
     ]
    },
    {
     "name": "stderr",
     "output_type": "stream",
     "text": [
      "c:\\Users\\tobia\\anaconda3\\envs\\dsaie\\lib\\site-packages\\sklearn\\model_selection\\_search.py:1103: UserWarning: One or more of the test scores are non-finite: [-9.84637540e+02             nan -1.02400206e+03 ...  6.83006023e-01\n",
      "  6.81594443e-01  6.81552347e-01]\n",
      "  warnings.warn(\n",
      "c:\\Users\\tobia\\anaconda3\\envs\\dsaie\\lib\\site-packages\\sklearn\\model_selection\\_search.py:1103: UserWarning: One or more of the train scores are non-finite: [-0.00258727         nan -0.00193237 ...  0.8440783   0.82377554\n",
      "  0.82366037]\n",
      "  warnings.warn(\n"
     ]
    },
    {
     "name": "stdout",
     "output_type": "stream",
     "text": [
      "----------\n",
      "iter: 8\n",
      "n_candidates: 1\n",
      "n_resources: 78732\n",
      "Fitting 5 folds for each of 1 candidates, totalling 5 fits\n"
     ]
    },
    {
     "name": "stderr",
     "output_type": "stream",
     "text": [
      "c:\\Users\\tobia\\anaconda3\\envs\\dsaie\\lib\\site-packages\\sklearn\\model_selection\\_search.py:1103: UserWarning: One or more of the test scores are non-finite: [-9.84637540e+02             nan -1.02400206e+03 ...  6.81594443e-01\n",
      "  6.81552347e-01  7.22500394e-01]\n",
      "  warnings.warn(\n",
      "c:\\Users\\tobia\\anaconda3\\envs\\dsaie\\lib\\site-packages\\sklearn\\model_selection\\_search.py:1103: UserWarning: One or more of the train scores are non-finite: [-0.00258727         nan -0.00193237 ...  0.82377554  0.82366037\n",
      "  0.81426578]\n",
      "  warnings.warn(\n"
     ]
    },
    {
     "name": "stdout",
     "output_type": "stream",
     "text": [
      "Best parameters found: {'colsample_bytree': 0.6, 'gamma': 0.2, 'learning_rate': 0.01, 'max_depth': 12, 'min_child_weight': 5, 'n_estimators': 400, 'reg_alpha': 0, 'reg_lambda': 2.5, 'subsample': 0.6}\n",
      "Best score: 0.722500393727534\n",
      "Training R2 Score: 0.8101913955918423\n",
      "Validation RMSE: 53.888463069568736\n",
      "Validation R2 Score: 0.6966556460722328\n",
      "Test R2 Score: 0.7335783884186793\n"
     ]
    }
   ],
   "source": [
    "# Define a parameter grid for hyperparameter tuning\n",
    "param_grid = {\n",
    "        'n_estimators': [300, 350, 400],\n",
    "        'max_depth': [8, 10, 12],\n",
    "        'learning_rate': [0.05, 0.01, 0.05],\n",
    "        'min_child_weight': [5, 7, 9],\n",
    "        'subsample': [0.6, 0.7, 0.8],\n",
    "        'colsample_bytree': [0.6, 0.7, 0.8],\n",
    "        'gamma': [0.2],\n",
    "        'reg_alpha': [0, 0.5, 1],\n",
    "        'reg_lambda': [1.5, 2, 2.5]\n",
    "    }\n",
    "\n",
    "\n",
    "# Use the optimize_xgb_model function to find the best model\n",
    "seed = 42\n",
    "best_model = optimize_xgb_model(Xtrain, ytrain, param_grid, random_state=seed)\n",
    "\n",
    "# Evaluate the best model on the training set\n",
    "y_train_pred = best_model.predict(Xtrain)\n",
    "train_r2 = metrics.r2_score(ytrain, y_train_pred)\n",
    "\n",
    "# Evaluate the best model on the validation set\n",
    "y_valid_pred = best_model.predict(Xvalid)\n",
    "validation_rmse = np.sqrt(metrics.mean_squared_error(yvalid, y_valid_pred))\n",
    "validation_r2 = metrics.r2_score(yvalid, y_valid_pred)\n",
    "\n",
    "# Evaluate the best model on the test set\n",
    "y_test_pred = best_model.predict(Xtest)\n",
    "test_r2 = metrics.r2_score(ytest, y_test_pred)\n",
    "\n",
    "# Print the results\n",
    "print(\"Training R2 Score:\", train_r2)\n",
    "print(\"Validation RMSE:\", validation_rmse)\n",
    "print(\"Validation R2 Score:\", validation_r2)\n",
    "print(\"Test R2 Score:\", test_r2)"
   ]
  }
 ],
 "metadata": {
  "kernelspec": {
   "display_name": "dsaie",
   "language": "python",
   "name": "python3"
  },
  "language_info": {
   "codemirror_mode": {
    "name": "ipython",
    "version": 3
   },
   "file_extension": ".py",
   "mimetype": "text/x-python",
   "name": "python",
   "nbconvert_exporter": "python",
   "pygments_lexer": "ipython3",
   "version": "3.9.17"
  }
 },
 "nbformat": 4,
 "nbformat_minor": 2
}
