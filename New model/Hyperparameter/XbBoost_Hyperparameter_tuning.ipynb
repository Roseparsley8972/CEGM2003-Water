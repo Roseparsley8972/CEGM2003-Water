{
 "cells": [
  {
   "cell_type": "markdown",
   "metadata": {},
   "source": [
    "## Finding optimal hyperparameters for XGBoost"
   ]
  },
  {
   "cell_type": "code",
   "execution_count": 93,
   "metadata": {},
   "outputs": [],
   "source": [
    "import os\n",
    "import sys\n",
    "import numpy as np  \n",
    "import xgboost as xgb\n",
    "from xgboost.sklearn import XGBRegressor\n",
    "from sklearn import metrics   \n",
    "from sklearn.model_selection import HalvingGridSearchCV\n",
    "sys.path.append('..')\n",
    "\n",
    "\n",
    "\n",
    "from Workflow import Workflow"
   ]
  },
  {
   "cell_type": "code",
   "execution_count": 94,
   "metadata": {},
   "outputs": [],
   "source": [
    "wf = Workflow()\n",
    "Xtrain, ytrain, Xvalid, yvalid, Xtest, ytest = wf.load_data()"
   ]
  },
  {
   "cell_type": "code",
   "execution_count": 95,
   "metadata": {},
   "outputs": [],
   "source": [
    "def optimize_xgb_model(X, y, param_grid, cv=5, scoring='r2', n_jobs=-1, random_state=None):\n",
    "    xgb = XGBRegressor()\n",
    "    grid_search = HalvingGridSearchCV(\n",
    "        estimator=xgb, \n",
    "        param_grid=param_grid, \n",
    "        cv=cv, \n",
    "        scoring=scoring, \n",
    "        n_jobs=n_jobs, \n",
    "        verbose=1, \n",
    "        aggressive_elimination=True, \n",
    "        random_state=random_state  # Set the random seed here\n",
    "    )\n",
    "    grid_search.fit(X, y)\n",
    "    print(f'Best parameters found: {grid_search.best_params_}')\n",
    "    print(f'Best score: {grid_search.best_score_}')\n",
    "    return grid_search.best_estimator_"
   ]
  },
  {
   "cell_type": "code",
   "execution_count": 97,
   "metadata": {},
   "outputs": [
    {
     "name": "stdout",
     "output_type": "stream",
     "text": [
      "n_iterations: 9\n",
      "n_required_iterations: 9\n",
      "n_possible_iterations: 9\n",
      "min_resources_: 12\n",
      "max_resources_: 78854\n",
      "aggressive_elimination: True\n",
      "factor: 3\n",
      "----------\n",
      "iter: 0\n",
      "n_candidates: 6561\n",
      "n_resources: 12\n",
      "Fitting 5 folds for each of 6561 candidates, totalling 32805 fits\n",
      "----------\n",
      "iter: 1\n",
      "n_candidates: 2187\n",
      "n_resources: 36\n",
      "Fitting 5 folds for each of 2187 candidates, totalling 10935 fits\n",
      "----------\n",
      "iter: 2\n",
      "n_candidates: 729\n",
      "n_resources: 108\n",
      "Fitting 5 folds for each of 729 candidates, totalling 3645 fits\n",
      "----------\n",
      "iter: 3\n",
      "n_candidates: 243\n",
      "n_resources: 324\n",
      "Fitting 5 folds for each of 243 candidates, totalling 1215 fits\n",
      "----------\n",
      "iter: 4\n",
      "n_candidates: 81\n",
      "n_resources: 972\n",
      "Fitting 5 folds for each of 81 candidates, totalling 405 fits\n",
      "----------\n",
      "iter: 5\n",
      "n_candidates: 27\n",
      "n_resources: 2916\n",
      "Fitting 5 folds for each of 27 candidates, totalling 135 fits\n",
      "----------\n",
      "iter: 6\n",
      "n_candidates: 9\n",
      "n_resources: 8748\n",
      "Fitting 5 folds for each of 9 candidates, totalling 45 fits\n",
      "----------\n",
      "iter: 7\n",
      "n_candidates: 3\n",
      "n_resources: 26244\n",
      "Fitting 5 folds for each of 3 candidates, totalling 15 fits\n",
      "----------\n",
      "iter: 8\n",
      "n_candidates: 1\n",
      "n_resources: 78732\n",
      "Fitting 5 folds for each of 1 candidates, totalling 5 fits\n",
      "Best parameters found: {'colsample_bytree': 0.6, 'gamma': 0.2, 'learning_rate': 0.01, 'max_depth': 12, 'min_child_weight': 5, 'n_estimators': 400, 'reg_alpha': 0, 'reg_lambda': 2.5, 'subsample': 0.6}\n",
      "Best score: 0.722500393727534\n",
      "Training R2 Score: 0.8101913955918423\n",
      "Validation RMSE: 53.888463069568736\n",
      "Validation R2 Score: 0.6966556460722328\n",
      "Test R2 Score: 0.7335783884186793\n"
     ]
    }
   ],
   "source": [
    "# Define a parameter grid for hyperparameter tuning\n",
    "param_grid = {\n",
    "        'n_estimators': [300, 350, 400],\n",
    "        'max_depth': [8, 10, 12],\n",
    "        'learning_rate': [0.05, 0.01, 0.05],\n",
    "        'min_child_weight': [5, 7, 9],\n",
    "        'subsample': [0.6, 0.7, 0.8],\n",
    "        'colsample_bytree': [0.6, 0.7, 0.8],\n",
    "        'gamma': [0.2],\n",
    "        'reg_alpha': [0, 0.5, 1],\n",
    "        'reg_lambda': [1.5, 2, 2.5]\n",
    "    }\n",
    "\n",
    "\n",
    "# Use the optimize_xgb_model function to find the best model\n",
    "seed = 42\n",
    "best_model = optimize_xgb_model(Xtrain, ytrain, param_grid, random_state=seed)\n",
    "\n",
    "# Evaluate the best model on the training set\n",
    "y_train_pred = best_model.predict(Xtrain)\n",
    "train_r2 = metrics.r2_score(ytrain, y_train_pred)\n",
    "\n",
    "# Evaluate the best model on the validation set\n",
    "y_valid_pred = best_model.predict(Xvalid)\n",
    "validation_rmse = np.sqrt(metrics.mean_squared_error(yvalid, y_valid_pred))\n",
    "validation_r2 = metrics.r2_score(yvalid, y_valid_pred)\n",
    "\n",
    "# Evaluate the best model on the test set\n",
    "y_test_pred = best_model.predict(Xtest)\n",
    "test_r2 = metrics.r2_score(ytest, y_test_pred)\n",
    "\n",
    "# Print the results\n",
    "print(\"Training R2 Score:\", train_r2)\n",
    "print(\"Validation RMSE:\", validation_rmse)\n",
    "print(\"Validation R2 Score:\", validation_r2)\n",
    "print(\"Test R2 Score:\", test_r2)"
   ]
  }
 ],
 "metadata": {
  "kernelspec": {
   "display_name": "dsaie",
   "language": "python",
   "name": "python3"
  },
  "language_info": {
   "codemirror_mode": {
    "name": "ipython",
    "version": 3
   },
   "file_extension": ".py",
   "mimetype": "text/x-python",
   "name": "python",
   "nbconvert_exporter": "python",
   "pygments_lexer": "ipython3",
   "version": "3.9.17"
  }
 },
 "nbformat": 4,
 "nbformat_minor": 2
}
