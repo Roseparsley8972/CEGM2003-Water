{
 "cells": [
  {
   "cell_type": "code",
   "execution_count": 5,
   "metadata": {},
   "outputs": [],
   "source": [
    "import os\n",
    "import pandas as pd\n",
    "import sys   \n",
    "import numpy as np\n",
    "from sklearn import metrics\n",
    "from sklearn.linear_model import Lasso\n",
    "from sklearn.model_selection import GridSearchCV\n",
    "\n",
    "sys.path.append('..')\n",
    "from Workflow import Workflow"
   ]
  },
  {
   "cell_type": "code",
   "execution_count": 6,
   "metadata": {},
   "outputs": [],
   "source": [
    "wf = Workflow()\n",
    "Xtrain, ytrain, Xvalid, yvalid, Xtest, ytest = wf.load_data()"
   ]
  },
  {
   "cell_type": "code",
   "execution_count": 7,
   "metadata": {},
   "outputs": [],
   "source": [
    "def optimize_lasso_model(X, y, param_grid, cv=5, scoring='neg_mean_squared_error', n_jobs=-1, seed=42):\n",
    "    # Create Lasso regression model\n",
    "    estimator = Lasso(random_state=seed)  \n",
    "    \n",
    "    # Use GridSearchCV for hyperparameter optimization\n",
    "    grid_search = GridSearchCV(\n",
    "        estimator=estimator,\n",
    "        param_grid=param_grid,\n",
    "        cv=cv,\n",
    "        scoring=scoring,\n",
    "        n_jobs=n_jobs,\n",
    "        verbose=3 \n",
    "    )\n",
    "    \n",
    "    # Fit the model to the data\n",
    "    grid_search.fit(X, y)\n",
    "    \n",
    "    # Output the results\n",
    "    print(f'Best parameters found: {grid_search.best_params_}')\n",
    "    print(f'Best score: {grid_search.best_score_}')\n",
    "    \n",
    "    return grid_search.best_estimator_"
   ]
  },
  {
   "cell_type": "code",
   "execution_count": 9,
   "metadata": {},
   "outputs": [
    {
     "name": "stdout",
     "output_type": "stream",
     "text": [
      "Fitting 5 folds for each of 30 candidates, totalling 150 fits\n",
      "Best parameters found: {'alpha': 0.01, 'max_iter': 1000, 'tol': 0.0001}\n",
      "Best score: -5265.826469936537\n",
      "Training R2 Score: 0.4777517976823974\n",
      "Validation RMSE: 73.32045557892536\n",
      "Validation R2 Score: 0.43844198442808646\n",
      "Test R2 Score: 0.4739764343756313\n"
     ]
    }
   ],
   "source": [
    "# Define the parameter grid for Lasso regression\n",
    "param_grid = {\n",
    "    'alpha': [0.01, 0.1, 1, 10, 100],  # Regularization strength\n",
    "    'max_iter': [1000, 2000],   # Maximum number of iterations\n",
    "    'tol': [1e-2, 1e-3,1e-4],         # Tolerance for stopping criteria\n",
    "}\n",
    "\n",
    "# Use the optimize_lasso_model function to find the best model\n",
    "seed = 42\n",
    "best_model = optimize_lasso_model(Xtrain, ytrain, param_grid, cv=5, scoring='neg_mean_squared_error', n_jobs=-1, seed=seed)\n",
    "\n",
    "# Evaluate the best model on the training set\n",
    "y_train_pred = best_model.predict(Xtrain)\n",
    "train_r2 = metrics.r2_score(ytrain, y_train_pred)\n",
    "\n",
    "# Evaluate the best model on the validation set\n",
    "y_valid_pred = best_model.predict(Xvalid)\n",
    "validation_rmse = np.sqrt(metrics.mean_squared_error(yvalid, y_valid_pred))\n",
    "validation_r2 = metrics.r2_score(yvalid, y_valid_pred)\n",
    "\n",
    "# Evaluate the best model on the test set\n",
    "y_test_pred = best_model.predict(Xtest)\n",
    "test_r2 = metrics.r2_score(ytest, y_test_pred)\n",
    "\n",
    "# Print the results\n",
    "print(\"Training R2 Score:\", train_r2)\n",
    "print(\"Validation RMSE:\", validation_rmse)\n",
    "print(\"Validation R2 Score:\", validation_r2)\n",
    "print(\"Test R2 Score:\", test_r2)"
   ]
  }
 ],
 "metadata": {
  "kernelspec": {
   "display_name": "dsaie",
   "language": "python",
   "name": "python3"
  },
  "language_info": {
   "codemirror_mode": {
    "name": "ipython",
    "version": 3
   },
   "file_extension": ".py",
   "mimetype": "text/x-python",
   "name": "python",
   "nbconvert_exporter": "python",
   "pygments_lexer": "ipython3",
   "version": "3.9.17"
  }
 },
 "nbformat": 4,
 "nbformat_minor": 2
}
