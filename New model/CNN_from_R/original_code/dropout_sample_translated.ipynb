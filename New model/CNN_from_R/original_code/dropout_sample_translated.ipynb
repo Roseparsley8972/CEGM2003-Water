{
 "cells": [
  {
   "cell_type": "code",
   "execution_count": null,
   "metadata": {},
   "outputs": [],
   "source": [
    "import numpy as np\n",
    "from tensorflow import keras\n",
    "\n",
    "def dropout_sample(*args, **kwargs):\n",
    "    # Load the model\n",
    "    drop_model = keras.models.load_model(\"models/modelweights.hdf5\")\n",
    "    weights = drop_model.get_weights()\n",
    "\n",
    "    # Create dropout masks\n",
    "    sampl1 = np.random.binomial(1, 1 - dropratespat, size=weights[0].shape[3])\n",
    "    sampl2 = np.random.binomial(1, 1 - dropratespat, size=weights[2].shape[3])\n",
    "    sampl3 = np.random.binomial(1, 1 - dropratespat, size=weights[4].shape[3])\n",
    "    sampl4 = np.random.binomial(1, 1 - dropratespat, size=weights[6].shape[3])\n",
    "\n",
    "    maskl1 = np.repeat(sampl1, 9).reshape(weights[0].shape)\n",
    "    maskl2 = np.repeat(sampl2, 9).reshape(weights[2].shape)\n",
    "    maskl3 = np.repeat(sampl3, 9).reshape(weights[4].shape)\n",
    "    maskl4 = np.repeat(sampl4, 9).reshape(weights[6].shape)\n",
    "\n",
    "    maskl5 = np.random.binomial(1, 1 - dropratedense, size=weights[8].shape[1])\n",
    "    maskl6 = np.random.binomial(1, 1 - dropratedense, size=weights[10].shape[1])\n",
    "    maskl7 = np.random.binomial(1, 1 - dropratedense, size=weights[12].shape[1])\n",
    "\n",
    "    # Apply dropout masks\n",
    "    weights[0] *= maskl1 / (1 - dropratespat)\n",
    "    weights[1] *= sampl1 / (1 - dropratespat)\n",
    "    weights[2] *= maskl2 / (1 - dropratespat)\n",
    "    weights[3] *= sampl2 / (1 - dropratespat)\n",
    "    weights[4] *= maskl3 / (1 - dropratespat)\n",
    "    weights[5] *= sampl3 / (1 - dropratespat)\n",
    "    weights[6] *= maskl4 / (1 - dropratespat)\n",
    "    weights[7] *= sampl4 / (1 - dropratespat)\n",
    "    weights[8] *= maskl5 / (1 - dropratedense)\n",
    "    weights[9] *= maskl5 / (1 - dropratedense)\n",
    "    weights[10] *= maskl6 / (1 - dropratedense)\n",
    "    weights[11] *= maskl6 / (1 - dropratedense)\n",
    "    weights[12] *= maskl7 / (1 - dropratedense)\n",
    "    weights[13] *= maskl7 / (1 - dropratedense)\n",
    "\n",
    "    drop_model.set_weights(weights)\n",
    "\n",
    "    return drop_model.predict(*args, **kwargs)"
   ]
  }
 ],
 "metadata": {
  "language_info": {
   "name": "python"
  }
 },
 "nbformat": 4,
 "nbformat_minor": 2
}
