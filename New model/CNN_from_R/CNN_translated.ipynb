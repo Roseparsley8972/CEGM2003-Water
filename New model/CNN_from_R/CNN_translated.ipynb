{
 "cells": [
  {
   "cell_type": "markdown",
   "metadata": {},
   "source": [
    "### Creating the auxiliary input images"
   ]
  },
  {
   "cell_type": "code",
<<<<<<< HEAD
   "execution_count": 33,
   "execution_count": 45,
   "metadata": {},
   "outputs": [
    {
     "name": "stderr",
     "output_type": "stream",
     "text": [
      "C:\\Users\\joept\\AppData\\Local\\Temp\\ipykernel_24296\\1509230242.py:25: DtypeWarning: Columns (0) have mixed types. Specify dtype option on import or set low_memory=False.\n",
      "C:\\Users\\chari\\AppData\\Local\\Temp\\ipykernel_32904\\2264289585.py:23: DtypeWarning: Columns (0) have mixed types. Specify dtype option on import or set low_memory=False.\n",
      "  clor = pd.read_csv(\"../Data/dat07_u.csv\")\n"
     ]
    }
   ],
=======
   "execution_count": 5,
   "metadata": {},
   "outputs": [],
>>>>>>> origin/Haris
   "source": [
    "import os\n",
    "import matplotlib.pyplot as plt\n",
    "import rasterio\n",
    "import pandas as pd\n",
    "import numpy as np\n",
    "import geopandas as gpd\n",
    "from shapely.geometry import Point\n",
    "import sys\n",
    "sys.path.append('..')\n",
    "from Workflow import Workflow\n",
    "from glob import glob"
   ]
  },
  {
   "cell_type": "code",
   "execution_count": 6,
   "metadata": {},
   "outputs": [],
   "source": [
    "wf = Workflow()\n",
    "X_train,y_train, X_val, y_val, X_test, y_test = wf.load_data()"
   ]
  },
  {
   "cell_type": "code",
   "execution_count": 24,
   "metadata": {},
   "outputs": [
    {
     "name": "stdout",
     "output_type": "stream",
     "text": [
      "(78854, 10)\n",
      "(9857,)\n"
     ]
    }
   ],
   "source": [
    "print(np.shape(X_train))\n",
    "print(np.shape(y_test))"
   ]
  },
  {
   "cell_type": "code",
   "execution_count": 8,
   "metadata": {},
   "outputs": [],
   "source": [
    "# # Extract the reprojected coordinates and store them\n",
    "\n",
    "#train\n",
    "geometry_train = [Point(xy) for xy in zip(X_train['lon'], X_train['lat'])]\n",
    "Xtrain_gdf = gpd.GeoDataFrame(X_train, geometry=geometry_train, crs=\"EPSG:3577\")  # WGS84 (lat/lon)\n",
    "\n",
    "Xtrain_gdf['x'] = Xtrain_gdf.geometry.x\n",
    "Xtrain_gdf['y'] = Xtrain_gdf.geometry.y\n",
    "\n",
    "#validation\n",
    "geometry_val = [Point(xy) for xy in zip(X_val['lon'], X_val['lat'])]\n",
    "Xval_gdf = gpd.GeoDataFrame(X_val, geometry=geometry_val, crs=\"EPSG:3577\")  # WGS84 (lat/lon)\n",
    "\n",
    "Xval_gdf['x'] = Xval_gdf.geometry.x\n",
    "Xval_gdf['y'] = Xval_gdf.geometry.y\n",
    "\n",
    "#test\n",
    "geometry_test = [Point(xy) for xy in zip(X_test['lon'], X_test['lat'])]\n",
    "Xtest_gdf = gpd.GeoDataFrame(X_test, geometry=geometry_test, crs=\"EPSG:3577\")  # WGS84 (lat/lon)\n",
    "\n",
    "Xtest_gdf['x'] = Xtest_gdf.geometry.x\n",
    "Xtest_gdf['y'] = Xtest_gdf.geometry.y"
   ]
  },
  {
   "cell_type": "code",
   "execution_count": 30,
   "metadata": {},
   "outputs": [
    {
     "name": "stdout",
     "output_type": "stream",
     "text": [
      "Processing file: ./aux_inputs\\rainfall_raster_bound.tif\n",
      "Processing file: ./aux_inputs\\rainfall_raster_bound.tif\n",
      "Processing file: ./aux_inputs\\rainfall_raster_bound.tif\n"
     ]
    }
   ],
   "source": [
    "# Directories\n",
    "os.makedirs(\"plots\", exist_ok=True)\n",
    "os.makedirs(\"models\", exist_ok=True)\n",
    "\n",
    "# 1. Load Rain Data\n",
    "def load_data(filepath):\n",
    "    with rasterio.open(filepath) as src:\n",
    "        values = src.read(1)  # Load the first band\n",
    "        transform = src.transform\n",
    "    return values, transform\n",
    "\n",
    "# 2. Extract Sample-Centered Terrain Images\n",
    "def extract_sample_centered_images(clor_gdf, values, transform, size=32):\n",
    "    rows, cols = values.shape\n",
    "    half_size = size // 2\n",
    "    terrain_images = []\n",
    "\n",
    "    for _, row in clor_gdf.iterrows():\n",
    "        x, y = row[\"x\"], row[\"y\"]\n",
    "        col, row = ~transform * (x, y)\n",
    "        col, row = int(col), int(row)\n",
    "\n",
    "        if 0 <= row-half_size < rows and 0 <= col-half_size < cols:\n",
    "            img = values[row-half_size:row+half_size, col-half_size:col+half_size]\n",
    "            if img.shape == (size, size):\n",
    "                terrain_images.append(img)\n",
    "            else:\n",
    "                terrain_images.append(np.zeros((size, size)))  # Pad with zeros if out of bounds\n",
    "        else:\n",
    "            terrain_images.append(np.zeros((size, size)))  # Completely out of bounds\n",
    "\n",
    "    return np.array(terrain_images)\n",
    "\n",
    "# 3. Load the recharge data\n",
    "directory_path = r\"./aux_inputs\"\n",
    "# List all .tif files in the directory\n",
    "tif_files = glob(os.path.join(directory_path, \"*.tif\"))\n",
    "columns_list = []\n",
    "def centered_img(data):\n",
    "    for file_path in tif_files:\n",
    "        print(f\"Processing file: {file_path}\")\n",
    "\n",
    "        # Load the data\n",
    "        values, transform = load_data(file_path)\n",
    "\n",
    "        # Extract the centered images\n",
    "        imgs_ann = extract_sample_centered_images(data, values, transform)\n",
    "\n",
    "        # Append the result to the list\n",
    "        columns_list.append(imgs_ann)\n",
    "    all_imgs_ann = list(zip(*columns_list))\n",
    "    columns_list.clear()\n",
    "    return all_imgs_ann \n",
    "\n",
    "# Use the updated coordinates\n",
    "imgs_ann_train = centered_img(Xtrain_gdf)\n",
    "imgs_ann_val = centered_img(Xval_gdf)\n",
    "imgs_ann_test = centered_img(Xtest_gdf)"
   ]
  },
  {
   "cell_type": "code",
<<<<<<< HEAD
<<<<<<<<< Temporary merge branch 1
   "execution_count": 34,
=========
   "execution_count": 46,
   "metadata": {},
   "outputs": [],
   "source": [
    "## normalization\n",
    "\n",
    "imgs_ann_min = np.min(imgs_ann)\n",
    "imgs_ann_max = np.max(imgs_ann)\n",
    "imgs_ann_normalized = (imgs_ann - imgs_ann_min) / (imgs_ann_max - imgs_ann_min)\n"
   ]
  },
  {
   "cell_type": "code",
   "execution_count": 47,
>>>>>>>>> Temporary merge branch 2
=======
   "execution_count": 31,
>>>>>>> origin/Haris
   "metadata": {},
   "outputs": [
    {
     "data": {
      "text/plain": [
       "(9857, 1, 32, 32)"
      ]
     },
     "execution_count": 31,
     "metadata": {},
     "output_type": "execute_result"
    }
   ],
   "source": [
    "np.shape(imgs_ann_test)"
   ]
  },
  {
   "cell_type": "markdown",
   "metadata": {},
   "source": [
    "#### Checking the centered images"
   ]
  },
  {
   "cell_type": "code",
<<<<<<< HEAD
   "execution_count": 35,
   "execution_count": 48,
=======
   "execution_count": 32,
>>>>>>> origin/Haris
   "metadata": {},
   "outputs": [
    {
     "data": {
<<<<<<< HEAD
      "image/png": "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",
      "image/png": "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",
=======
      "image/png": "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",
>>>>>>> origin/Haris
      "text/plain": [
       "<Figure size 1500x500 with 5 Axes>"
      ]
     },
     "metadata": {},
     "output_type": "display_data"
    }
   ],
   "source": [
    "n = 5\n",
    "\n",
    "# Select random images or specific indices\n",
    "indices = np.random.choice(len(imgs_ann_train), n, replace=False)\n",
    "\n",
    "# Plot the images\n",
    "fig, axs = plt.subplots(1, n, figsize=(15, 5))\n",
    "for i, idx in enumerate(indices):\n",
    "    axs[i].imshow(imgs_ann_train[idx][0], cmap=\"viridis\")\n",
    "    axs[i].set_title(f\"Image {idx}\")\n",
    "    axs[i].axis(\"off\")\n",
    "plt.show()"
   ]
  },
  {
   "cell_type": "markdown",
   "metadata": {},
   "source": [
    "### Creating the location input"
   ]
  },
  {
   "cell_type": "code",
   "execution_count": 33,
   "metadata": {},
   "outputs": [],
   "source": [
    "#normalizing the location input\n",
    "def norm_loc(data):\n",
    "    data.to_numpy()\n",
    "    mean = (X_train.to_numpy()).mean(axis=0)\n",
    "    std = (X_train.to_numpy()).std(axis=0)\n",
    "    return ((data - mean)/std)"
   ]
  },
  {
   "cell_type": "code",
   "execution_count": 34,
   "metadata": {},
   "outputs": [],
   "source": [
    "X_train = norm_loc(X_train)\n",
    "X_val = norm_loc(X_val)\n",
    "X_test = norm_loc(X_test)"
   ]
  },
  {
   "cell_type": "code",
   "execution_count": 35,
   "metadata": {},
   "outputs": [
    {
     "data": {
      "text/plain": [
       "(9857,)"
      ]
     },
     "execution_count": 35,
     "metadata": {},
     "output_type": "execute_result"
    }
   ],
   "source": [
    "np.shape(y_test)"
   ]
  },
  {
   "cell_type": "code",
   "execution_count": 36,
   "metadata": {},
   "outputs": [],
   "source": [
<<<<<<< HEAD
    "recharge_data = clor[['lat','lon','Rain mm/y', 'Recharge RC 50% mm/y', 'rainfall_seasonality', 'PET mm/y', 'elevation_mahd', 'distance_to_coast_km', 'ndvi_avg', 'clay_perc', 'soil_class']]\n",
    "# Assuming loc is a pandas DataFrame containing the columns: \"Bng_easting\", \"Bng_northing\", \"elevation\"\n",
    "loc = recharge_data[['lat','lon','Rain mm/y', 'rainfall_seasonality', 'PET mm/y', 'elevation_mahd', 'distance_to_coast_km', 'ndvi_avg', 'clay_perc', 'soil_class']]\n",
   "execution_count": 49,
   "metadata": {},
   "outputs": [],
   "source": [
    "recharge_data = clor[['lat','lon','Rain mm/y','Recharge mean mm/y']]\n",
    "\n",
    "# Calculate column means\n",
    "loc_mean = loc.mean()\n",
    "\n",
    "# Calculate column standard deviations\n",
    "loc_sd = loc.std()\n",
    "\n",
    "# Standardize the data (z-score normalization)\n",
    "loc_ann = ((loc - loc_mean) / loc_sd).to_numpy()"
=======
    "#normalizing the images\n",
    "def norm_loc(data):\n",
    "    data = np.array(data)\n",
    "    return ((data - data.mean())/data.std())"
>>>>>>> origin/Haris
   ]
  },
  {
   "cell_type": "code",
   "execution_count": 6,
   "metadata": {},
<<<<<<< HEAD
   "outputs": [
    {
     "data": {
      "text/plain": [
       "98568"
      ]
     },
     "execution_count": 6,
     "metadata": {},
     "output_type": "execute_result"
    }
   ],
   "source": [
    "recharge_data.shape[0]"
   ]
  },
  {
   "cell_type": "code",
   "execution_count": 7,
   "metadata": {},
   "outputs": [
    {
     "data": {
      "text/plain": [
       "array([ 0.54739326,  0.93351284, -0.13192523])"
      ]
     },
     "execution_count": 7,
     "metadata": {},
     "output_type": "execute_result"
    }
   ],
   "source": [
    "loc_ann[1]"
=======
   "outputs": [],
   "source": [
    "imgs_ann_train = norm_loc(imgs_ann_train)\n",
    "imgs_ann_val = norm_loc(imgs_ann_val)\n",
    "imgs_ann_test = norm_loc(imgs_ann_test)"
>>>>>>> origin/Haris
   ]
  },
  {
   "cell_type": "markdown",
   "metadata": {},
   "source": [
    "### Our network"
   ]
  },
  {
   "cell_type": "code",
<<<<<<< HEAD
   "execution_count": 39,
   "execution_count": 50,
=======
   "execution_count": 67,
>>>>>>> origin/Haris
   "metadata": {},
   "outputs": [],
   "source": [
    "# Use neural network to learn relationship between terrain features and geochemistry ####\n",
    "\n",
    "import numpy as np\n",
    "import tensorflow as tf\n",
    "from tensorflow.keras import layers, models\n",
    "from tensorflow.keras.layers import Input, Conv2D, Activation, SpatialDropout2D, GlobalAveragePooling2D, Flatten, Dense, Dropout, Concatenate\n",
<<<<<<< HEAD
    "from tensorflow.keras.initializers import HeNormal, Zeros\n",
    "\n",
    "np.random.seed(321)\n",
    "fold_size = recharge_data.shape[0] // 10\n",
    "test = np.random.choice(recharge_data.shape[0], fold_size, replace=False)\n",
    "val = np.random.choice(np.setdiff1d(np.arange(recharge_data.shape[0]), test), fold_size, replace=False)\n",
    "train = np.setdiff1d(np.arange(recharge_data.shape[0]), np.concatenate((test, val)))\n",
    "\n",
    "# Data Preparation --------------------------------------------------------\n",
    "\n",
    "x_train = [imgs_ann[train], loc_ann[train]]\n",
    "x_val = [imgs_ann[val], loc_ann[val]]\n",
    "x_test = [imgs_ann[test], loc_ann[test]]\n",
    "\n",
    "x_train[0] = x_train[0].reshape((x_train[0].shape[0], 32, 32, 1))\n",
    "x_val[0] = x_val[0].reshape((x_val[0].shape[0], 32, 32, 1))\n",
    "x_test[0] = x_test[0].reshape((x_test[0].shape[0], 32, 32, 1))\n",
    "\n",
    "\n",
    "y_train = recharge_data['Recharge RC 50% mm/y'].astype(float)[train]\n",
    "y_val = recharge_data['Recharge RC 50% mm/y'].astype(float)[val]\n",
    "y_test = recharge_data['Recharge RC 50% mm/y'].astype(float)[test]\n",
    "y_train = recharge_data_norm[:,3].astype(float)[train]\n",
    "y_val = recharge_data_norm[:,3].astype(float)[val]\n",
    "y_test = recharge_data_norm[:,3].astype(float)[test]\n",
=======
    "from tensorflow.keras.metrics import MeanSquaredError\n",
>>>>>>> origin/Haris
    "\n",
    "# Defining Model ----------------------------------------------------------\n",
    "time = tf.timestamp()\n",
    "\n",
    "x_train = [imgs_ann_train.reshape(-1, 32, 32, 1),X_train]\n",
    "x_val = [imgs_ann_val.reshape(-1, 32, 32, 1),X_val]\n",
    "x_test = [imgs_ann_test.reshape(-1, 32, 32, 1),X_test]\n",
    "\n",
    "dropratespat = 0.5  # match what model was trained with\n",
    "dropratedense = 0.2  # match what model was trained with\n",
    "\n",
    "kernel_ini = HeNormal()\n",
    "bias_ini = Zeros()\n",
    "\n",
    "# Convolutional stack:\n",
    "conv_input = Input(shape=(32, 32, 1), name='conv_input')\n",
    "\n",
    "conv_output = Conv2D(128, (3, 3), dilation_rate=1, strides=3, kernel_initializer=kernel_ini, bias_initializer=bias_ini)(conv_input)\n",
    "conv_output = Activation(\"relu\")(conv_output)\n",
    "conv_output = SpatialDropout2D(rate=dropratespat)(conv_output)\n",
    "\n",
    "conv_output = Conv2D(128, (3, 3), dilation_rate=1, strides=1, kernel_initializer=kernel_ini, bias_initializer=bias_ini)(conv_output)\n",
    "conv_output = Activation(\"relu\")(conv_output)\n",
    "conv_output = SpatialDropout2D(rate=dropratespat)(conv_output)\n",
    "\n",
    "conv_output = Conv2D(128, (3, 3), dilation_rate=1, strides=1, kernel_initializer=kernel_ini, bias_initializer=bias_ini)(conv_output)\n",
    "conv_output = Activation(\"relu\")(conv_output)\n",
    "conv_output = SpatialDropout2D(rate=dropratespat)(conv_output)\n",
    "\n",
    "conv_output = Conv2D(128, (3, 3), dilation_rate=1, strides=1, kernel_initializer=kernel_ini, bias_initializer=bias_ini)(conv_output)\n",
    "conv_output = Activation(\"relu\")(conv_output)\n",
    "conv_output = SpatialDropout2D(rate=dropratespat)(conv_output)\n",
    "\n",
    "conv_output = GlobalAveragePooling2D()(conv_output)\n",
    "conv_output = Flatten()(conv_output)\n",
    "\n",
    "# Auxiliary input:\n",
    "auxiliary_input = Input(shape=(10,), name='aux_input')\n",
    "\n",
    "auxiliary_output = Dense(1920, kernel_initializer=kernel_ini, bias_initializer=bias_ini)(auxiliary_input)\n",
    "auxiliary_output = Activation(\"relu\")(auxiliary_output)\n",
    "auxiliary_output = Dropout(rate=dropratedense)(auxiliary_output)\n",
    "auxiliary_output = Flatten()(auxiliary_output)\n",
    "\n",
    "# Main output:\n",
    "main_output = Concatenate()([conv_output, auxiliary_output])\n",
    "main_output = Dense(1024, kernel_initializer=kernel_ini, bias_initializer=bias_ini)(main_output)\n",
    "main_output = Activation(\"relu\")(main_output)\n",
    "main_output = Dropout(rate=dropratedense)(main_output)\n",
    "main_output = Dense(256, kernel_initializer=kernel_ini, bias_initializer=bias_ini)(main_output)\n",
    "main_output = Activation(\"relu\")(main_output)\n",
    "main_output = Dropout(rate=dropratedense)(main_output)\n",
    "main_output = Dense(units=2, activation=\"linear\", name=\"dist_param\", kernel_initializer=kernel_ini, bias_initializer=bias_ini)(main_output)\n",
    "main_output = tf.keras.layers.Lambda(lambda x: x[:, 0:1])(main_output)\n"
   ]
  },
  {
   "cell_type": "code",
   "execution_count": 68,
   "metadata": {},
   "outputs": [
    {
<<<<<<< HEAD
     "data": {
      "text/html": [
       "<pre style=\"white-space:pre;overflow-x:auto;line-height:normal;font-family:Menlo,'DejaVu Sans Mono',consolas,'Courier New',monospace\"><span style=\"font-weight: bold\">Model: \"functional_6\"</span>\n",
       "</pre>\n"
      ],
      "text/plain": [
       "\u001b[1mModel: \"functional_6\"\u001b[0m\n"
      ]
     },
     "metadata": {},
     "output_type": "display_data"
    },
    {
     "data": {
      "text/html": [
       "<pre style=\"white-space:pre;overflow-x:auto;line-height:normal;font-family:Menlo,'DejaVu Sans Mono',consolas,'Courier New',monospace\">┏━━━━━━━━━━━━━━━━━━━━━┳━━━━━━━━━━━━━━━━━━━┳━━━━━━━━━━━━┳━━━━━━━━━━━━━━━━━━━┓\n",
       "┃<span style=\"font-weight: bold\"> Layer (type)        </span>┃<span style=\"font-weight: bold\"> Output Shape      </span>┃<span style=\"font-weight: bold\">    Param # </span>┃<span style=\"font-weight: bold\"> Connected to      </span>┃\n",
       "┡━━━━━━━━━━━━━━━━━━━━━╇━━━━━━━━━━━━━━━━━━━╇━━━━━━━━━━━━╇━━━━━━━━━━━━━━━━━━━┩\n",
       "│ conv_input          │ (<span style=\"color: #00d7ff; text-decoration-color: #00d7ff\">None</span>, <span style=\"color: #00af00; text-decoration-color: #00af00\">32</span>, <span style=\"color: #00af00; text-decoration-color: #00af00\">32</span>, <span style=\"color: #00af00; text-decoration-color: #00af00\">1</span>) │          <span style=\"color: #00af00; text-decoration-color: #00af00\">0</span> │ -                 │\n",
       "│ (<span style=\"color: #0087ff; text-decoration-color: #0087ff\">InputLayer</span>)        │                   │            │                   │\n",
       "├─────────────────────┼───────────────────┼────────────┼───────────────────┤\n",
       "│ conv2d_8 (<span style=\"color: #0087ff; text-decoration-color: #0087ff\">Conv2D</span>)   │ (<span style=\"color: #00d7ff; text-decoration-color: #00d7ff\">None</span>, <span style=\"color: #00af00; text-decoration-color: #00af00\">10</span>, <span style=\"color: #00af00; text-decoration-color: #00af00\">10</span>,    │      <span style=\"color: #00af00; text-decoration-color: #00af00\">1,280</span> │ conv_input[<span style=\"color: #00af00; text-decoration-color: #00af00\">0</span>][<span style=\"color: #00af00; text-decoration-color: #00af00\">0</span>]  │\n",
       "│                     │ <span style=\"color: #00af00; text-decoration-color: #00af00\">128</span>)              │            │                   │\n",
       "├─────────────────────┼───────────────────┼────────────┼───────────────────┤\n",
       "│ activation_14       │ (<span style=\"color: #00d7ff; text-decoration-color: #00d7ff\">None</span>, <span style=\"color: #00af00; text-decoration-color: #00af00\">10</span>, <span style=\"color: #00af00; text-decoration-color: #00af00\">10</span>,    │          <span style=\"color: #00af00; text-decoration-color: #00af00\">0</span> │ conv2d_8[<span style=\"color: #00af00; text-decoration-color: #00af00\">0</span>][<span style=\"color: #00af00; text-decoration-color: #00af00\">0</span>]    │\n",
       "│ (<span style=\"color: #0087ff; text-decoration-color: #0087ff\">Activation</span>)        │ <span style=\"color: #00af00; text-decoration-color: #00af00\">128</span>)              │            │                   │\n",
       "├─────────────────────┼───────────────────┼────────────┼───────────────────┤\n",
       "│ spatial_dropout2d_8 │ (<span style=\"color: #00d7ff; text-decoration-color: #00d7ff\">None</span>, <span style=\"color: #00af00; text-decoration-color: #00af00\">10</span>, <span style=\"color: #00af00; text-decoration-color: #00af00\">10</span>,    │          <span style=\"color: #00af00; text-decoration-color: #00af00\">0</span> │ activation_14[<span style=\"color: #00af00; text-decoration-color: #00af00\">0</span>]… │\n",
       "│ (<span style=\"color: #0087ff; text-decoration-color: #0087ff\">SpatialDropout2D</span>)  │ <span style=\"color: #00af00; text-decoration-color: #00af00\">128</span>)              │            │                   │\n",
       "├─────────────────────┼───────────────────┼────────────┼───────────────────┤\n",
       "│ conv2d_9 (<span style=\"color: #0087ff; text-decoration-color: #0087ff\">Conv2D</span>)   │ (<span style=\"color: #00d7ff; text-decoration-color: #00d7ff\">None</span>, <span style=\"color: #00af00; text-decoration-color: #00af00\">8</span>, <span style=\"color: #00af00; text-decoration-color: #00af00\">8</span>, <span style=\"color: #00af00; text-decoration-color: #00af00\">128</span>) │    <span style=\"color: #00af00; text-decoration-color: #00af00\">147,584</span> │ spatial_dropout2… │\n",
       "├─────────────────────┼───────────────────┼────────────┼───────────────────┤\n",
       "│ activation_15       │ (<span style=\"color: #00d7ff; text-decoration-color: #00d7ff\">None</span>, <span style=\"color: #00af00; text-decoration-color: #00af00\">8</span>, <span style=\"color: #00af00; text-decoration-color: #00af00\">8</span>, <span style=\"color: #00af00; text-decoration-color: #00af00\">128</span>) │          <span style=\"color: #00af00; text-decoration-color: #00af00\">0</span> │ conv2d_9[<span style=\"color: #00af00; text-decoration-color: #00af00\">0</span>][<span style=\"color: #00af00; text-decoration-color: #00af00\">0</span>]    │\n",
       "│ (<span style=\"color: #0087ff; text-decoration-color: #0087ff\">Activation</span>)        │                   │            │                   │\n",
       "├─────────────────────┼───────────────────┼────────────┼───────────────────┤\n",
       "│ spatial_dropout2d_9 │ (<span style=\"color: #00d7ff; text-decoration-color: #00d7ff\">None</span>, <span style=\"color: #00af00; text-decoration-color: #00af00\">8</span>, <span style=\"color: #00af00; text-decoration-color: #00af00\">8</span>, <span style=\"color: #00af00; text-decoration-color: #00af00\">128</span>) │          <span style=\"color: #00af00; text-decoration-color: #00af00\">0</span> │ activation_15[<span style=\"color: #00af00; text-decoration-color: #00af00\">0</span>]… │\n",
       "│ (<span style=\"color: #0087ff; text-decoration-color: #0087ff\">SpatialDropout2D</span>)  │                   │            │                   │\n",
       "├─────────────────────┼───────────────────┼────────────┼───────────────────┤\n",
       "│ conv2d_10 (<span style=\"color: #0087ff; text-decoration-color: #0087ff\">Conv2D</span>)  │ (<span style=\"color: #00d7ff; text-decoration-color: #00d7ff\">None</span>, <span style=\"color: #00af00; text-decoration-color: #00af00\">6</span>, <span style=\"color: #00af00; text-decoration-color: #00af00\">6</span>, <span style=\"color: #00af00; text-decoration-color: #00af00\">128</span>) │    <span style=\"color: #00af00; text-decoration-color: #00af00\">147,584</span> │ spatial_dropout2… │\n",
       "├─────────────────────┼───────────────────┼────────────┼───────────────────┤\n",
       "│ activation_16       │ (<span style=\"color: #00d7ff; text-decoration-color: #00d7ff\">None</span>, <span style=\"color: #00af00; text-decoration-color: #00af00\">6</span>, <span style=\"color: #00af00; text-decoration-color: #00af00\">6</span>, <span style=\"color: #00af00; text-decoration-color: #00af00\">128</span>) │          <span style=\"color: #00af00; text-decoration-color: #00af00\">0</span> │ conv2d_10[<span style=\"color: #00af00; text-decoration-color: #00af00\">0</span>][<span style=\"color: #00af00; text-decoration-color: #00af00\">0</span>]   │\n",
       "│ (<span style=\"color: #0087ff; text-decoration-color: #0087ff\">Activation</span>)        │                   │            │                   │\n",
       "├─────────────────────┼───────────────────┼────────────┼───────────────────┤\n",
       "│ spatial_dropout2d_… │ (<span style=\"color: #00d7ff; text-decoration-color: #00d7ff\">None</span>, <span style=\"color: #00af00; text-decoration-color: #00af00\">6</span>, <span style=\"color: #00af00; text-decoration-color: #00af00\">6</span>, <span style=\"color: #00af00; text-decoration-color: #00af00\">128</span>) │          <span style=\"color: #00af00; text-decoration-color: #00af00\">0</span> │ activation_16[<span style=\"color: #00af00; text-decoration-color: #00af00\">0</span>]… │\n",
       "│ (<span style=\"color: #0087ff; text-decoration-color: #0087ff\">SpatialDropout2D</span>)  │                   │            │                   │\n",
       "├─────────────────────┼───────────────────┼────────────┼───────────────────┤\n",
       "│ conv2d_11 (<span style=\"color: #0087ff; text-decoration-color: #0087ff\">Conv2D</span>)  │ (<span style=\"color: #00d7ff; text-decoration-color: #00d7ff\">None</span>, <span style=\"color: #00af00; text-decoration-color: #00af00\">4</span>, <span style=\"color: #00af00; text-decoration-color: #00af00\">4</span>, <span style=\"color: #00af00; text-decoration-color: #00af00\">128</span>) │    <span style=\"color: #00af00; text-decoration-color: #00af00\">147,584</span> │ spatial_dropout2… │\n",
       "├─────────────────────┼───────────────────┼────────────┼───────────────────┤\n",
       "│ aux_input           │ (<span style=\"color: #00d7ff; text-decoration-color: #00d7ff\">None</span>, <span style=\"color: #00af00; text-decoration-color: #00af00\">10</span>)        │          <span style=\"color: #00af00; text-decoration-color: #00af00\">0</span> │ -                 │\n",
       "│ (<span style=\"color: #0087ff; text-decoration-color: #0087ff\">InputLayer</span>)        │                   │            │                   │\n",
       "├─────────────────────┼───────────────────┼────────────┼───────────────────┤\n",
       "│ activation_17       │ (<span style=\"color: #00d7ff; text-decoration-color: #00d7ff\">None</span>, <span style=\"color: #00af00; text-decoration-color: #00af00\">4</span>, <span style=\"color: #00af00; text-decoration-color: #00af00\">4</span>, <span style=\"color: #00af00; text-decoration-color: #00af00\">128</span>) │          <span style=\"color: #00af00; text-decoration-color: #00af00\">0</span> │ conv2d_11[<span style=\"color: #00af00; text-decoration-color: #00af00\">0</span>][<span style=\"color: #00af00; text-decoration-color: #00af00\">0</span>]   │\n",
       "│ (<span style=\"color: #0087ff; text-decoration-color: #0087ff\">Activation</span>)        │                   │            │                   │\n",
       "├─────────────────────┼───────────────────┼────────────┼───────────────────┤\n",
       "│ dense_6 (<span style=\"color: #0087ff; text-decoration-color: #0087ff\">Dense</span>)     │ (<span style=\"color: #00d7ff; text-decoration-color: #00d7ff\">None</span>, <span style=\"color: #00af00; text-decoration-color: #00af00\">1920</span>)      │     <span style=\"color: #00af00; text-decoration-color: #00af00\">21,120</span> │ aux_input[<span style=\"color: #00af00; text-decoration-color: #00af00\">0</span>][<span style=\"color: #00af00; text-decoration-color: #00af00\">0</span>]   │\n",
       "├─────────────────────┼───────────────────┼────────────┼───────────────────┤\n",
       "│ spatial_dropout2d_… │ (<span style=\"color: #00d7ff; text-decoration-color: #00d7ff\">None</span>, <span style=\"color: #00af00; text-decoration-color: #00af00\">4</span>, <span style=\"color: #00af00; text-decoration-color: #00af00\">4</span>, <span style=\"color: #00af00; text-decoration-color: #00af00\">128</span>) │          <span style=\"color: #00af00; text-decoration-color: #00af00\">0</span> │ activation_17[<span style=\"color: #00af00; text-decoration-color: #00af00\">0</span>]… │\n",
       "│ (<span style=\"color: #0087ff; text-decoration-color: #0087ff\">SpatialDropout2D</span>)  │                   │            │                   │\n",
       "├─────────────────────┼───────────────────┼────────────┼───────────────────┤\n",
       "│ activation_18       │ (<span style=\"color: #00d7ff; text-decoration-color: #00d7ff\">None</span>, <span style=\"color: #00af00; text-decoration-color: #00af00\">1920</span>)      │          <span style=\"color: #00af00; text-decoration-color: #00af00\">0</span> │ dense_6[<span style=\"color: #00af00; text-decoration-color: #00af00\">0</span>][<span style=\"color: #00af00; text-decoration-color: #00af00\">0</span>]     │\n",
       "│ (<span style=\"color: #0087ff; text-decoration-color: #0087ff\">Activation</span>)        │                   │            │                   │\n",
       "├─────────────────────┼───────────────────┼────────────┼───────────────────┤\n",
       "│ global_average_poo… │ (<span style=\"color: #00d7ff; text-decoration-color: #00d7ff\">None</span>, <span style=\"color: #00af00; text-decoration-color: #00af00\">128</span>)       │          <span style=\"color: #00af00; text-decoration-color: #00af00\">0</span> │ spatial_dropout2… │\n",
       "│ (<span style=\"color: #0087ff; text-decoration-color: #0087ff\">GlobalAveragePool…</span> │                   │            │                   │\n",
       "├─────────────────────┼───────────────────┼────────────┼───────────────────┤\n",
       "│ dropout_6 (<span style=\"color: #0087ff; text-decoration-color: #0087ff\">Dropout</span>) │ (<span style=\"color: #00d7ff; text-decoration-color: #00d7ff\">None</span>, <span style=\"color: #00af00; text-decoration-color: #00af00\">1920</span>)      │          <span style=\"color: #00af00; text-decoration-color: #00af00\">0</span> │ activation_18[<span style=\"color: #00af00; text-decoration-color: #00af00\">0</span>]… │\n",
       "├─────────────────────┼───────────────────┼────────────┼───────────────────┤\n",
       "│ flatten_4 (<span style=\"color: #0087ff; text-decoration-color: #0087ff\">Flatten</span>) │ (<span style=\"color: #00d7ff; text-decoration-color: #00d7ff\">None</span>, <span style=\"color: #00af00; text-decoration-color: #00af00\">128</span>)       │          <span style=\"color: #00af00; text-decoration-color: #00af00\">0</span> │ global_average_p… │\n",
       "├─────────────────────┼───────────────────┼────────────┼───────────────────┤\n",
       "│ flatten_5 (<span style=\"color: #0087ff; text-decoration-color: #0087ff\">Flatten</span>) │ (<span style=\"color: #00d7ff; text-decoration-color: #00d7ff\">None</span>, <span style=\"color: #00af00; text-decoration-color: #00af00\">1920</span>)      │          <span style=\"color: #00af00; text-decoration-color: #00af00\">0</span> │ dropout_6[<span style=\"color: #00af00; text-decoration-color: #00af00\">0</span>][<span style=\"color: #00af00; text-decoration-color: #00af00\">0</span>]   │\n",
       "├─────────────────────┼───────────────────┼────────────┼───────────────────┤\n",
       "│ concatenate_2       │ (<span style=\"color: #00d7ff; text-decoration-color: #00d7ff\">None</span>, <span style=\"color: #00af00; text-decoration-color: #00af00\">2048</span>)      │          <span style=\"color: #00af00; text-decoration-color: #00af00\">0</span> │ flatten_4[<span style=\"color: #00af00; text-decoration-color: #00af00\">0</span>][<span style=\"color: #00af00; text-decoration-color: #00af00\">0</span>],  │\n",
       "│ (<span style=\"color: #0087ff; text-decoration-color: #0087ff\">Concatenate</span>)       │                   │            │ flatten_5[<span style=\"color: #00af00; text-decoration-color: #00af00\">0</span>][<span style=\"color: #00af00; text-decoration-color: #00af00\">0</span>]   │\n",
       "├─────────────────────┼───────────────────┼────────────┼───────────────────┤\n",
       "│ dense_7 (<span style=\"color: #0087ff; text-decoration-color: #0087ff\">Dense</span>)     │ (<span style=\"color: #00d7ff; text-decoration-color: #00d7ff\">None</span>, <span style=\"color: #00af00; text-decoration-color: #00af00\">1024</span>)      │  <span style=\"color: #00af00; text-decoration-color: #00af00\">2,098,176</span> │ concatenate_2[<span style=\"color: #00af00; text-decoration-color: #00af00\">0</span>]… │\n",
       "├─────────────────────┼───────────────────┼────────────┼───────────────────┤\n",
       "│ activation_19       │ (<span style=\"color: #00d7ff; text-decoration-color: #00d7ff\">None</span>, <span style=\"color: #00af00; text-decoration-color: #00af00\">1024</span>)      │          <span style=\"color: #00af00; text-decoration-color: #00af00\">0</span> │ dense_7[<span style=\"color: #00af00; text-decoration-color: #00af00\">0</span>][<span style=\"color: #00af00; text-decoration-color: #00af00\">0</span>]     │\n",
       "│ (<span style=\"color: #0087ff; text-decoration-color: #0087ff\">Activation</span>)        │                   │            │                   │\n",
       "├─────────────────────┼───────────────────┼────────────┼───────────────────┤\n",
       "│ dropout_7 (<span style=\"color: #0087ff; text-decoration-color: #0087ff\">Dropout</span>) │ (<span style=\"color: #00d7ff; text-decoration-color: #00d7ff\">None</span>, <span style=\"color: #00af00; text-decoration-color: #00af00\">1024</span>)      │          <span style=\"color: #00af00; text-decoration-color: #00af00\">0</span> │ activation_19[<span style=\"color: #00af00; text-decoration-color: #00af00\">0</span>]… │\n",
       "├─────────────────────┼───────────────────┼────────────┼───────────────────┤\n",
       "│ dense_8 (<span style=\"color: #0087ff; text-decoration-color: #0087ff\">Dense</span>)     │ (<span style=\"color: #00d7ff; text-decoration-color: #00d7ff\">None</span>, <span style=\"color: #00af00; text-decoration-color: #00af00\">256</span>)       │    <span style=\"color: #00af00; text-decoration-color: #00af00\">262,400</span> │ dropout_7[<span style=\"color: #00af00; text-decoration-color: #00af00\">0</span>][<span style=\"color: #00af00; text-decoration-color: #00af00\">0</span>]   │\n",
       "├─────────────────────┼───────────────────┼────────────┼───────────────────┤\n",
       "│ activation_20       │ (<span style=\"color: #00d7ff; text-decoration-color: #00d7ff\">None</span>, <span style=\"color: #00af00; text-decoration-color: #00af00\">256</span>)       │          <span style=\"color: #00af00; text-decoration-color: #00af00\">0</span> │ dense_8[<span style=\"color: #00af00; text-decoration-color: #00af00\">0</span>][<span style=\"color: #00af00; text-decoration-color: #00af00\">0</span>]     │\n",
       "│ (<span style=\"color: #0087ff; text-decoration-color: #0087ff\">Activation</span>)        │                   │            │                   │\n",
       "├─────────────────────┼───────────────────┼────────────┼───────────────────┤\n",
       "│ dropout_8 (<span style=\"color: #0087ff; text-decoration-color: #0087ff\">Dropout</span>) │ (<span style=\"color: #00d7ff; text-decoration-color: #00d7ff\">None</span>, <span style=\"color: #00af00; text-decoration-color: #00af00\">256</span>)       │          <span style=\"color: #00af00; text-decoration-color: #00af00\">0</span> │ activation_20[<span style=\"color: #00af00; text-decoration-color: #00af00\">0</span>]… │\n",
       "├─────────────────────┼───────────────────┼────────────┼───────────────────┤\n",
       "│ dist_param (<span style=\"color: #0087ff; text-decoration-color: #0087ff\">Dense</span>)  │ (<span style=\"color: #00d7ff; text-decoration-color: #00d7ff\">None</span>, <span style=\"color: #00af00; text-decoration-color: #00af00\">2</span>)         │        <span style=\"color: #00af00; text-decoration-color: #00af00\">514</span> │ dropout_8[<span style=\"color: #00af00; text-decoration-color: #00af00\">0</span>][<span style=\"color: #00af00; text-decoration-color: #00af00\">0</span>]   │\n",
       "├─────────────────────┼───────────────────┼────────────┼───────────────────┤\n",
       "│ lambda_2 (<span style=\"color: #0087ff; text-decoration-color: #0087ff\">Lambda</span>)   │ (<span style=\"color: #00d7ff; text-decoration-color: #00d7ff\">None</span>, <span style=\"color: #00af00; text-decoration-color: #00af00\">1</span>)         │          <span style=\"color: #00af00; text-decoration-color: #00af00\">0</span> │ dist_param[<span style=\"color: #00af00; text-decoration-color: #00af00\">0</span>][<span style=\"color: #00af00; text-decoration-color: #00af00\">0</span>]  │\n",
       "└─────────────────────┴───────────────────┴────────────┴───────────────────┘\n",
       "</pre>\n"
      ],
      "text/plain": [
       "┏━━━━━━━━━━━━━━━━━━━━━┳━━━━━━━━━━━━━━━━━━━┳━━━━━━━━━━━━┳━━━━━━━━━━━━━━━━━━━┓\n",
       "┃\u001b[1m \u001b[0m\u001b[1mLayer (type)       \u001b[0m\u001b[1m \u001b[0m┃\u001b[1m \u001b[0m\u001b[1mOutput Shape     \u001b[0m\u001b[1m \u001b[0m┃\u001b[1m \u001b[0m\u001b[1m   Param #\u001b[0m\u001b[1m \u001b[0m┃\u001b[1m \u001b[0m\u001b[1mConnected to     \u001b[0m\u001b[1m \u001b[0m┃\n",
       "┡━━━━━━━━━━━━━━━━━━━━━╇━━━━━━━━━━━━━━━━━━━╇━━━━━━━━━━━━╇━━━━━━━━━━━━━━━━━━━┩\n",
       "│ conv_input          │ (\u001b[38;5;45mNone\u001b[0m, \u001b[38;5;34m32\u001b[0m, \u001b[38;5;34m32\u001b[0m, \u001b[38;5;34m1\u001b[0m) │          \u001b[38;5;34m0\u001b[0m │ -                 │\n",
       "│ (\u001b[38;5;33mInputLayer\u001b[0m)        │                   │            │                   │\n",
       "├─────────────────────┼───────────────────┼────────────┼───────────────────┤\n",
       "│ conv2d_8 (\u001b[38;5;33mConv2D\u001b[0m)   │ (\u001b[38;5;45mNone\u001b[0m, \u001b[38;5;34m10\u001b[0m, \u001b[38;5;34m10\u001b[0m,    │      \u001b[38;5;34m1,280\u001b[0m │ conv_input[\u001b[38;5;34m0\u001b[0m][\u001b[38;5;34m0\u001b[0m]  │\n",
       "│                     │ \u001b[38;5;34m128\u001b[0m)              │            │                   │\n",
       "├─────────────────────┼───────────────────┼────────────┼───────────────────┤\n",
       "│ activation_14       │ (\u001b[38;5;45mNone\u001b[0m, \u001b[38;5;34m10\u001b[0m, \u001b[38;5;34m10\u001b[0m,    │          \u001b[38;5;34m0\u001b[0m │ conv2d_8[\u001b[38;5;34m0\u001b[0m][\u001b[38;5;34m0\u001b[0m]    │\n",
       "│ (\u001b[38;5;33mActivation\u001b[0m)        │ \u001b[38;5;34m128\u001b[0m)              │            │                   │\n",
       "├─────────────────────┼───────────────────┼────────────┼───────────────────┤\n",
       "│ spatial_dropout2d_8 │ (\u001b[38;5;45mNone\u001b[0m, \u001b[38;5;34m10\u001b[0m, \u001b[38;5;34m10\u001b[0m,    │          \u001b[38;5;34m0\u001b[0m │ activation_14[\u001b[38;5;34m0\u001b[0m]… │\n",
       "│ (\u001b[38;5;33mSpatialDropout2D\u001b[0m)  │ \u001b[38;5;34m128\u001b[0m)              │            │                   │\n",
       "├─────────────────────┼───────────────────┼────────────┼───────────────────┤\n",
       "│ conv2d_9 (\u001b[38;5;33mConv2D\u001b[0m)   │ (\u001b[38;5;45mNone\u001b[0m, \u001b[38;5;34m8\u001b[0m, \u001b[38;5;34m8\u001b[0m, \u001b[38;5;34m128\u001b[0m) │    \u001b[38;5;34m147,584\u001b[0m │ spatial_dropout2… │\n",
       "├─────────────────────┼───────────────────┼────────────┼───────────────────┤\n",
       "│ activation_15       │ (\u001b[38;5;45mNone\u001b[0m, \u001b[38;5;34m8\u001b[0m, \u001b[38;5;34m8\u001b[0m, \u001b[38;5;34m128\u001b[0m) │          \u001b[38;5;34m0\u001b[0m │ conv2d_9[\u001b[38;5;34m0\u001b[0m][\u001b[38;5;34m0\u001b[0m]    │\n",
       "│ (\u001b[38;5;33mActivation\u001b[0m)        │                   │            │                   │\n",
       "├─────────────────────┼───────────────────┼────────────┼───────────────────┤\n",
       "│ spatial_dropout2d_9 │ (\u001b[38;5;45mNone\u001b[0m, \u001b[38;5;34m8\u001b[0m, \u001b[38;5;34m8\u001b[0m, \u001b[38;5;34m128\u001b[0m) │          \u001b[38;5;34m0\u001b[0m │ activation_15[\u001b[38;5;34m0\u001b[0m]… │\n",
       "│ (\u001b[38;5;33mSpatialDropout2D\u001b[0m)  │                   │            │                   │\n",
       "├─────────────────────┼───────────────────┼────────────┼───────────────────┤\n",
       "│ conv2d_10 (\u001b[38;5;33mConv2D\u001b[0m)  │ (\u001b[38;5;45mNone\u001b[0m, \u001b[38;5;34m6\u001b[0m, \u001b[38;5;34m6\u001b[0m, \u001b[38;5;34m128\u001b[0m) │    \u001b[38;5;34m147,584\u001b[0m │ spatial_dropout2… │\n",
       "├─────────────────────┼───────────────────┼────────────┼───────────────────┤\n",
       "│ activation_16       │ (\u001b[38;5;45mNone\u001b[0m, \u001b[38;5;34m6\u001b[0m, \u001b[38;5;34m6\u001b[0m, \u001b[38;5;34m128\u001b[0m) │          \u001b[38;5;34m0\u001b[0m │ conv2d_10[\u001b[38;5;34m0\u001b[0m][\u001b[38;5;34m0\u001b[0m]   │\n",
       "│ (\u001b[38;5;33mActivation\u001b[0m)        │                   │            │                   │\n",
       "├─────────────────────┼───────────────────┼────────────┼───────────────────┤\n",
       "│ spatial_dropout2d_… │ (\u001b[38;5;45mNone\u001b[0m, \u001b[38;5;34m6\u001b[0m, \u001b[38;5;34m6\u001b[0m, \u001b[38;5;34m128\u001b[0m) │          \u001b[38;5;34m0\u001b[0m │ activation_16[\u001b[38;5;34m0\u001b[0m]… │\n",
       "│ (\u001b[38;5;33mSpatialDropout2D\u001b[0m)  │                   │            │                   │\n",
       "├─────────────────────┼───────────────────┼────────────┼───────────────────┤\n",
       "│ conv2d_11 (\u001b[38;5;33mConv2D\u001b[0m)  │ (\u001b[38;5;45mNone\u001b[0m, \u001b[38;5;34m4\u001b[0m, \u001b[38;5;34m4\u001b[0m, \u001b[38;5;34m128\u001b[0m) │    \u001b[38;5;34m147,584\u001b[0m │ spatial_dropout2… │\n",
       "├─────────────────────┼───────────────────┼────────────┼───────────────────┤\n",
       "│ aux_input           │ (\u001b[38;5;45mNone\u001b[0m, \u001b[38;5;34m10\u001b[0m)        │          \u001b[38;5;34m0\u001b[0m │ -                 │\n",
       "│ (\u001b[38;5;33mInputLayer\u001b[0m)        │                   │            │                   │\n",
       "├─────────────────────┼───────────────────┼────────────┼───────────────────┤\n",
       "│ activation_17       │ (\u001b[38;5;45mNone\u001b[0m, \u001b[38;5;34m4\u001b[0m, \u001b[38;5;34m4\u001b[0m, \u001b[38;5;34m128\u001b[0m) │          \u001b[38;5;34m0\u001b[0m │ conv2d_11[\u001b[38;5;34m0\u001b[0m][\u001b[38;5;34m0\u001b[0m]   │\n",
       "│ (\u001b[38;5;33mActivation\u001b[0m)        │                   │            │                   │\n",
       "├─────────────────────┼───────────────────┼────────────┼───────────────────┤\n",
       "│ dense_6 (\u001b[38;5;33mDense\u001b[0m)     │ (\u001b[38;5;45mNone\u001b[0m, \u001b[38;5;34m1920\u001b[0m)      │     \u001b[38;5;34m21,120\u001b[0m │ aux_input[\u001b[38;5;34m0\u001b[0m][\u001b[38;5;34m0\u001b[0m]   │\n",
       "├─────────────────────┼───────────────────┼────────────┼───────────────────┤\n",
       "│ spatial_dropout2d_… │ (\u001b[38;5;45mNone\u001b[0m, \u001b[38;5;34m4\u001b[0m, \u001b[38;5;34m4\u001b[0m, \u001b[38;5;34m128\u001b[0m) │          \u001b[38;5;34m0\u001b[0m │ activation_17[\u001b[38;5;34m0\u001b[0m]… │\n",
       "│ (\u001b[38;5;33mSpatialDropout2D\u001b[0m)  │                   │            │                   │\n",
       "├─────────────────────┼───────────────────┼────────────┼───────────────────┤\n",
       "│ activation_18       │ (\u001b[38;5;45mNone\u001b[0m, \u001b[38;5;34m1920\u001b[0m)      │          \u001b[38;5;34m0\u001b[0m │ dense_6[\u001b[38;5;34m0\u001b[0m][\u001b[38;5;34m0\u001b[0m]     │\n",
       "│ (\u001b[38;5;33mActivation\u001b[0m)        │                   │            │                   │\n",
       "├─────────────────────┼───────────────────┼────────────┼───────────────────┤\n",
       "│ global_average_poo… │ (\u001b[38;5;45mNone\u001b[0m, \u001b[38;5;34m128\u001b[0m)       │          \u001b[38;5;34m0\u001b[0m │ spatial_dropout2… │\n",
       "│ (\u001b[38;5;33mGlobalAveragePool…\u001b[0m │                   │            │                   │\n",
       "├─────────────────────┼───────────────────┼────────────┼───────────────────┤\n",
       "│ dropout_6 (\u001b[38;5;33mDropout\u001b[0m) │ (\u001b[38;5;45mNone\u001b[0m, \u001b[38;5;34m1920\u001b[0m)      │          \u001b[38;5;34m0\u001b[0m │ activation_18[\u001b[38;5;34m0\u001b[0m]… │\n",
       "├─────────────────────┼───────────────────┼────────────┼───────────────────┤\n",
       "│ flatten_4 (\u001b[38;5;33mFlatten\u001b[0m) │ (\u001b[38;5;45mNone\u001b[0m, \u001b[38;5;34m128\u001b[0m)       │          \u001b[38;5;34m0\u001b[0m │ global_average_p… │\n",
       "├─────────────────────┼───────────────────┼────────────┼───────────────────┤\n",
       "│ flatten_5 (\u001b[38;5;33mFlatten\u001b[0m) │ (\u001b[38;5;45mNone\u001b[0m, \u001b[38;5;34m1920\u001b[0m)      │          \u001b[38;5;34m0\u001b[0m │ dropout_6[\u001b[38;5;34m0\u001b[0m][\u001b[38;5;34m0\u001b[0m]   │\n",
       "├─────────────────────┼───────────────────┼────────────┼───────────────────┤\n",
       "│ concatenate_2       │ (\u001b[38;5;45mNone\u001b[0m, \u001b[38;5;34m2048\u001b[0m)      │          \u001b[38;5;34m0\u001b[0m │ flatten_4[\u001b[38;5;34m0\u001b[0m][\u001b[38;5;34m0\u001b[0m],  │\n",
       "│ (\u001b[38;5;33mConcatenate\u001b[0m)       │                   │            │ flatten_5[\u001b[38;5;34m0\u001b[0m][\u001b[38;5;34m0\u001b[0m]   │\n",
       "├─────────────────────┼───────────────────┼────────────┼───────────────────┤\n",
       "│ dense_7 (\u001b[38;5;33mDense\u001b[0m)     │ (\u001b[38;5;45mNone\u001b[0m, \u001b[38;5;34m1024\u001b[0m)      │  \u001b[38;5;34m2,098,176\u001b[0m │ concatenate_2[\u001b[38;5;34m0\u001b[0m]… │\n",
       "├─────────────────────┼───────────────────┼────────────┼───────────────────┤\n",
       "│ activation_19       │ (\u001b[38;5;45mNone\u001b[0m, \u001b[38;5;34m1024\u001b[0m)      │          \u001b[38;5;34m0\u001b[0m │ dense_7[\u001b[38;5;34m0\u001b[0m][\u001b[38;5;34m0\u001b[0m]     │\n",
       "│ (\u001b[38;5;33mActivation\u001b[0m)        │                   │            │                   │\n",
       "├─────────────────────┼───────────────────┼────────────┼───────────────────┤\n",
       "│ dropout_7 (\u001b[38;5;33mDropout\u001b[0m) │ (\u001b[38;5;45mNone\u001b[0m, \u001b[38;5;34m1024\u001b[0m)      │          \u001b[38;5;34m0\u001b[0m │ activation_19[\u001b[38;5;34m0\u001b[0m]… │\n",
       "├─────────────────────┼───────────────────┼────────────┼───────────────────┤\n",
       "│ dense_8 (\u001b[38;5;33mDense\u001b[0m)     │ (\u001b[38;5;45mNone\u001b[0m, \u001b[38;5;34m256\u001b[0m)       │    \u001b[38;5;34m262,400\u001b[0m │ dropout_7[\u001b[38;5;34m0\u001b[0m][\u001b[38;5;34m0\u001b[0m]   │\n",
       "├─────────────────────┼───────────────────┼────────────┼───────────────────┤\n",
       "│ activation_20       │ (\u001b[38;5;45mNone\u001b[0m, \u001b[38;5;34m256\u001b[0m)       │          \u001b[38;5;34m0\u001b[0m │ dense_8[\u001b[38;5;34m0\u001b[0m][\u001b[38;5;34m0\u001b[0m]     │\n",
       "│ (\u001b[38;5;33mActivation\u001b[0m)        │                   │            │                   │\n",
       "├─────────────────────┼───────────────────┼────────────┼───────────────────┤\n",
       "│ dropout_8 (\u001b[38;5;33mDropout\u001b[0m) │ (\u001b[38;5;45mNone\u001b[0m, \u001b[38;5;34m256\u001b[0m)       │          \u001b[38;5;34m0\u001b[0m │ activation_20[\u001b[38;5;34m0\u001b[0m]… │\n",
       "├─────────────────────┼───────────────────┼────────────┼───────────────────┤\n",
       "│ dist_param (\u001b[38;5;33mDense\u001b[0m)  │ (\u001b[38;5;45mNone\u001b[0m, \u001b[38;5;34m2\u001b[0m)         │        \u001b[38;5;34m514\u001b[0m │ dropout_8[\u001b[38;5;34m0\u001b[0m][\u001b[38;5;34m0\u001b[0m]   │\n",
       "├─────────────────────┼───────────────────┼────────────┼───────────────────┤\n",
       "│ lambda_2 (\u001b[38;5;33mLambda\u001b[0m)   │ (\u001b[38;5;45mNone\u001b[0m, \u001b[38;5;34m1\u001b[0m)         │          \u001b[38;5;34m0\u001b[0m │ dist_param[\u001b[38;5;34m0\u001b[0m][\u001b[38;5;34m0\u001b[0m]  │\n",
       "└─────────────────────┴───────────────────┴────────────┴───────────────────┘\n"
      ]
     },
     "metadata": {},
     "output_type": "display_data"
    },
    {
     "data": {
      "text/html": [
       "<pre style=\"white-space:pre;overflow-x:auto;line-height:normal;font-family:Menlo,'DejaVu Sans Mono',consolas,'Courier New',monospace\"><span style=\"font-weight: bold\"> Total params: </span><span style=\"color: #00af00; text-decoration-color: #00af00\">2,826,242</span> (10.78 MB)\n",
       "</pre>\n"
      ],
      "text/plain": [
       "\u001b[1m Total params: \u001b[0m\u001b[38;5;34m2,826,242\u001b[0m (10.78 MB)\n"
      ]
     },
     "metadata": {},
     "output_type": "display_data"
    },
    {
     "data": {
      "text/html": [
       "<pre style=\"white-space:pre;overflow-x:auto;line-height:normal;font-family:Menlo,'DejaVu Sans Mono',consolas,'Courier New',monospace\"><span style=\"font-weight: bold\"> Trainable params: </span><span style=\"color: #00af00; text-decoration-color: #00af00\">2,826,242</span> (10.78 MB)\n",
       "</pre>\n"
      ],
      "text/plain": [
       "\u001b[1m Trainable params: \u001b[0m\u001b[38;5;34m2,826,242\u001b[0m (10.78 MB)\n"
      ]
     },
     "metadata": {},
     "output_type": "display_data"
    },
    {
     "data": {
      "text/html": [
       "<pre style=\"white-space:pre;overflow-x:auto;line-height:normal;font-family:Menlo,'DejaVu Sans Mono',consolas,'Courier New',monospace\"><span style=\"font-weight: bold\"> Non-trainable params: </span><span style=\"color: #00af00; text-decoration-color: #00af00\">0</span> (0.00 B)\n",
       "</pre>\n"
      ],
      "text/plain": [
       "\u001b[1m Non-trainable params: \u001b[0m\u001b[38;5;34m0\u001b[0m (0.00 B)\n"
      ]
     },
     "metadata": {},
     "output_type": "display_data"
=========
   "execution_count": 68,
   "metadata": {},
   "outputs": [
    {
     "data": {
      "text/plain": [
       "0.021034607952219144"
      ]
     },
     "execution_count": 68,
     "metadata": {},
     "output_type": "execute_result"
    }
   ],
   "source": [
    "recharge_data_norm[:,3].mean()"
   ]
  },
  {
   "cell_type": "code",
   "execution_count": null,
   "metadata": {},
   "outputs": [
    {
     "name": "stdout",
     "output_type": "stream",
     "text": [
      "Model: \"functional_11\"\n",
=======
     "name": "stdout",
     "output_type": "stream",
     "text": [
      "Model: \"functional_15\"\n",
>>>>>>> origin/Haris
      "__________________________________________________________________________________________________\n",
      "Layer (type)                    Output Shape         Param #     Connected to                     \n",
      "==================================================================================================\n",
      "conv_input (InputLayer)         [(None, 32, 32, 1)]  0                                            \n",
      "__________________________________________________________________________________________________\n",
<<<<<<< HEAD
      "conv2d_16 (Conv2D)              (None, 10, 10, 128)  1280        conv_input[0][0]                 \n",
      "__________________________________________________________________________________________________\n",
      "activation_28 (Activation)      (None, 10, 10, 128)  0           conv2d_16[0][0]                  \n",
      "__________________________________________________________________________________________________\n",
      "spatial_dropout2d_16 (SpatialDr (None, 10, 10, 128)  0           activation_28[0][0]              \n",
      "__________________________________________________________________________________________________\n",
      "conv2d_17 (Conv2D)              (None, 8, 8, 128)    147584      spatial_dropout2d_16[0][0]       \n",
      "__________________________________________________________________________________________________\n",
      "activation_29 (Activation)      (None, 8, 8, 128)    0           conv2d_17[0][0]                  \n",
      "__________________________________________________________________________________________________\n",
      "spatial_dropout2d_17 (SpatialDr (None, 8, 8, 128)    0           activation_29[0][0]              \n",
      "__________________________________________________________________________________________________\n",
      "conv2d_18 (Conv2D)              (None, 6, 6, 128)    147584      spatial_dropout2d_17[0][0]       \n",
      "__________________________________________________________________________________________________\n",
      "activation_30 (Activation)      (None, 6, 6, 128)    0           conv2d_18[0][0]                  \n",
      "__________________________________________________________________________________________________\n",
      "spatial_dropout2d_18 (SpatialDr (None, 6, 6, 128)    0           activation_30[0][0]              \n",
      "__________________________________________________________________________________________________\n",
      "conv2d_19 (Conv2D)              (None, 4, 4, 128)    147584      spatial_dropout2d_18[0][0]       \n",
      "__________________________________________________________________________________________________\n",
      "aux_input (InputLayer)          [(None, 3)]          0                                            \n",
      "__________________________________________________________________________________________________\n",
      "activation_31 (Activation)      (None, 4, 4, 128)    0           conv2d_19[0][0]                  \n",
      "__________________________________________________________________________________________________\n",
      "dense_12 (Dense)                (None, 1920)         7680        aux_input[0][0]                  \n",
      "__________________________________________________________________________________________________\n",
      "spatial_dropout2d_19 (SpatialDr (None, 4, 4, 128)    0           activation_31[0][0]              \n",
      "__________________________________________________________________________________________________\n",
      "activation_32 (Activation)      (None, 1920)         0           dense_12[0][0]                   \n",
      "__________________________________________________________________________________________________\n",
      "global_average_pooling2d_4 (Glo (None, 128)          0           spatial_dropout2d_19[0][0]       \n",
      "__________________________________________________________________________________________________\n",
      "dropout_12 (Dropout)            (None, 1920)         0           activation_32[0][0]              \n",
      "__________________________________________________________________________________________________\n",
      "flatten_8 (Flatten)             (None, 128)          0           global_average_pooling2d_4[0][0] \n",
      "__________________________________________________________________________________________________\n",
      "flatten_9 (Flatten)             (None, 1920)         0           dropout_12[0][0]                 \n",
      "__________________________________________________________________________________________________\n",
      "concatenate_4 (Concatenate)     (None, 2048)         0           flatten_8[0][0]                  \n",
      "                                                                 flatten_9[0][0]                  \n",
      "__________________________________________________________________________________________________\n",
      "dense_13 (Dense)                (None, 1024)         2098176     concatenate_4[0][0]              \n",
      "__________________________________________________________________________________________________\n",
      "activation_33 (Activation)      (None, 1024)         0           dense_13[0][0]                   \n",
      "__________________________________________________________________________________________________\n",
      "dropout_13 (Dropout)            (None, 1024)         0           activation_33[0][0]              \n",
      "__________________________________________________________________________________________________\n",
      "dense_14 (Dense)                (None, 256)          262400      dropout_13[0][0]                 \n",
      "__________________________________________________________________________________________________\n",
      "activation_34 (Activation)      (None, 256)          0           dense_14[0][0]                   \n",
      "__________________________________________________________________________________________________\n",
      "dropout_14 (Dropout)            (None, 256)          0           activation_34[0][0]              \n",
      "__________________________________________________________________________________________________\n",
      "dist_param (Dense)              (None, 2)            514         dropout_14[0][0]                 \n",
      "__________________________________________________________________________________________________\n",
      "lambda_4 (Lambda)               (None, 1)            0           dist_param[0][0]                 \n",
      "==================================================================================================\n",
      "Total params: 2,812,802\n",
      "Trainable params: 2,812,802\n",
      "Non-trainable params: 0\n",
      "__________________________________________________________________________________________________\n"
     ]
>>>>>>>>> Temporary merge branch 2
=======
      "conv2d_20 (Conv2D)              (None, 10, 10, 128)  1280        conv_input[0][0]                 \n",
      "__________________________________________________________________________________________________\n",
      "activation_35 (Activation)      (None, 10, 10, 128)  0           conv2d_20[0][0]                  \n",
      "__________________________________________________________________________________________________\n",
      "spatial_dropout2d_20 (SpatialDr (None, 10, 10, 128)  0           activation_35[0][0]              \n",
      "__________________________________________________________________________________________________\n",
      "conv2d_21 (Conv2D)              (None, 8, 8, 128)    147584      spatial_dropout2d_20[0][0]       \n",
      "__________________________________________________________________________________________________\n",
      "activation_36 (Activation)      (None, 8, 8, 128)    0           conv2d_21[0][0]                  \n",
      "__________________________________________________________________________________________________\n",
      "spatial_dropout2d_21 (SpatialDr (None, 8, 8, 128)    0           activation_36[0][0]              \n",
      "__________________________________________________________________________________________________\n",
      "conv2d_22 (Conv2D)              (None, 6, 6, 128)    147584      spatial_dropout2d_21[0][0]       \n",
      "__________________________________________________________________________________________________\n",
      "activation_37 (Activation)      (None, 6, 6, 128)    0           conv2d_22[0][0]                  \n",
      "__________________________________________________________________________________________________\n",
      "spatial_dropout2d_22 (SpatialDr (None, 6, 6, 128)    0           activation_37[0][0]              \n",
      "__________________________________________________________________________________________________\n",
      "conv2d_23 (Conv2D)              (None, 4, 4, 128)    147584      spatial_dropout2d_22[0][0]       \n",
      "__________________________________________________________________________________________________\n",
      "aux_input (InputLayer)          [(None, 10)]         0                                            \n",
      "__________________________________________________________________________________________________\n",
      "activation_38 (Activation)      (None, 4, 4, 128)    0           conv2d_23[0][0]                  \n",
      "__________________________________________________________________________________________________\n",
      "dense_15 (Dense)                (None, 1920)         21120       aux_input[0][0]                  \n",
      "__________________________________________________________________________________________________\n",
      "spatial_dropout2d_23 (SpatialDr (None, 4, 4, 128)    0           activation_38[0][0]              \n",
      "__________________________________________________________________________________________________\n",
      "activation_39 (Activation)      (None, 1920)         0           dense_15[0][0]                   \n",
      "__________________________________________________________________________________________________\n",
      "global_average_pooling2d_5 (Glo (None, 128)          0           spatial_dropout2d_23[0][0]       \n",
      "__________________________________________________________________________________________________\n",
      "dropout_15 (Dropout)            (None, 1920)         0           activation_39[0][0]              \n",
      "__________________________________________________________________________________________________\n",
      "flatten_10 (Flatten)            (None, 128)          0           global_average_pooling2d_5[0][0] \n",
      "__________________________________________________________________________________________________\n",
      "flatten_11 (Flatten)            (None, 1920)         0           dropout_15[0][0]                 \n",
      "__________________________________________________________________________________________________\n",
      "concatenate_5 (Concatenate)     (None, 2048)         0           flatten_10[0][0]                 \n",
      "                                                                 flatten_11[0][0]                 \n",
      "__________________________________________________________________________________________________\n",
      "dense_16 (Dense)                (None, 1024)         2098176     concatenate_5[0][0]              \n",
      "__________________________________________________________________________________________________\n",
      "activation_40 (Activation)      (None, 1024)         0           dense_16[0][0]                   \n",
      "__________________________________________________________________________________________________\n",
      "dropout_16 (Dropout)            (None, 1024)         0           activation_40[0][0]              \n",
      "__________________________________________________________________________________________________\n",
      "dense_17 (Dense)                (None, 256)          262400      dropout_16[0][0]                 \n",
      "__________________________________________________________________________________________________\n",
      "activation_41 (Activation)      (None, 256)          0           dense_17[0][0]                   \n",
      "__________________________________________________________________________________________________\n",
      "dropout_17 (Dropout)            (None, 256)          0           activation_41[0][0]              \n",
      "__________________________________________________________________________________________________\n",
      "dist_param (Dense)              (None, 2)            514         dropout_17[0][0]                 \n",
      "__________________________________________________________________________________________________\n",
      "lambda_5 (Lambda)               (None, 1)            0           dist_param[0][0]                 \n",
      "==================================================================================================\n",
      "Total params: 2,826,242\n",
      "Trainable params: 2,826,242\n",
      "Non-trainable params: 0\n",
      "__________________________________________________________________________________________________\n"
     ]
>>>>>>> origin/Haris
    }
   ],
   "source": [
    "# Define the model\n",
    "model = models.Model(inputs=[conv_input, auxiliary_input], outputs=main_output)\n",
    "def custom_mse_loss(y_true, y_pred):\n",
    "    # Extract the mean from the output\n",
    "    mean = y_pred[:, 0]\n",
    "    # Compute the mean squared error with the true values\n",
    "    return tf.reduce_mean(tf.square(y_true - mean))\n",
    "# Compile the model\n",
    "model.compile(optimizer=tf.keras.optimizers.Adam(learning_rate=1e-6), \n",
    "              loss='mse',\n",
    "    metrics=[MeanSquaredError()])\n",
    "\n",
    "# Summary of the model\n",
    "model.summary()"
   ]
  },
  {
   "cell_type": "markdown",
   "metadata": {},
   "source": []
  },
  {
   "cell_type": "code",
<<<<<<< HEAD
<<<<<<<<< Temporary merge branch 1
   "execution_count": 41,
=========
   "execution_count": 55,
=======
   "execution_count": 69,
>>>>>>> origin/Haris
   "metadata": {},
   "outputs": [
    {
     "name": "stdout",
     "output_type": "stream",
     "text": [
      "GPU is not available\n"
     ]
    }
   ],
   "source": [
    "if tf.config.list_physical_devices('GPU'):\n",
    "    print(\"GPU is available\")\n",
    "else:\n",
    "    print(\"GPU is not available\")"
   ]
  },
  {
   "cell_type": "code",
<<<<<<< HEAD
   "execution_count": 56,
>>>>>>>>> Temporary merge branch 2
   "metadata": {},
   "outputs": [
    {
     "name": "stdout",
     "output_type": "stream",
     "text": [
<<<<<<<<< Temporary merge branch 1
      "GPU is not available\n"
     ]
    }
   ],
   "source": [
    "if tf.config.list_physical_devices('GPU'):\n",
    "    print(\"GPU is available\")\n",
    "else:\n",
    "    print(\"GPU is not available\")"
   ]
  },
  {
   "cell_type": "code",
   "execution_count": 42,
=======
   "execution_count": 70,
>>>>>>> origin/Haris
   "metadata": {},
   "outputs": [
    {
     "name": "stdout",
     "output_type": "stream",
     "text": [
      "Num GPUs Available:  0\n",
      "2.3.0\n"
     ]
    }
   ],
   "source": [
    "import tensorflow as tf\n",
    "print(\"Num GPUs Available: \", len(tf.config.experimental.list_physical_devices('GPU')))\n",
    "print(tf.__version__)"
   ]
  },
  {
   "cell_type": "code",
   "execution_count": 72,
   "metadata": {},
   "outputs": [
    {
     "name": "stdout",
     "output_type": "stream",
     "text": [
      "Epoch 1/10\n"
     ]
    },
    {
<<<<<<< HEAD
     "name": "stderr",
     "output_type": "stream",
     "text": [
      "WARNING:absl:You are saving your model as an HDF5 file via `model.save()` or `keras.saving.save_model(model)`. This file format is considered legacy. We recommend using instead the native Keras format, e.g. `model.save('my_model.keras')` or `keras.saving.save_model(model, 'my_model.keras')`. \n",
      "WARNING:absl:No training configuration found in the save file, so the model was *not* compiled. Compile it manually.\n"
     ]
    },
    {
     "name": "stdout",
     "output_type": "stream",
     "text": [
      "\u001b[1m308/308\u001b[0m \u001b[32m━━━━━━━━━━━━━━━━━━━━\u001b[0m\u001b[37m\u001b[0m \u001b[1m2s\u001b[0m 7ms/step\n",
      "R squared = 0.71\n",
      "RMSE = 56.46\n"
=========
      "Epoch 1/1000\n",
      "7886/7886 - 366s - loss: nan - accuracy: 1.2681e-05 - val_loss: nan - val_accuracy: 0.0000e+00\n",
      "Epoch 2/1000\n"
     ]
    },
    {
=======
>>>>>>> origin/Haris
     "ename": "KeyboardInterrupt",
     "evalue": "",
     "output_type": "error",
     "traceback": [
      "\u001b[1;31m---------------------------------------------------------------------------\u001b[0m",
      "\u001b[1;31mKeyboardInterrupt\u001b[0m                         Traceback (most recent call last)",
<<<<<<< HEAD
      "Cell \u001b[1;32mIn[56], line 7\u001b[0m\n\u001b[0;32m      4\u001b[0m epochs \u001b[38;5;241m=\u001b[39m \u001b[38;5;241m1000\u001b[39m\n\u001b[0;32m      6\u001b[0m \u001b[38;5;66;03m# Train the model with the specified parameters\u001b[39;00m\n\u001b[1;32m----> 7\u001b[0m history \u001b[38;5;241m=\u001b[39m \u001b[43mmodel\u001b[49m\u001b[38;5;241;43m.\u001b[39;49m\u001b[43mfit\u001b[49m\u001b[43m(\u001b[49m\n\u001b[0;32m      8\u001b[0m \u001b[43m    \u001b[49m\u001b[43mx_train\u001b[49m\u001b[43m,\u001b[49m\u001b[43m \u001b[49m\u001b[43my_train\u001b[49m\u001b[43m,\u001b[49m\n\u001b[0;32m      9\u001b[0m \u001b[43m    \u001b[49m\u001b[43mbatch_size\u001b[49m\u001b[38;5;241;43m=\u001b[39;49m\u001b[43mbatch_size\u001b[49m\u001b[43m,\u001b[49m\n\u001b[0;32m     10\u001b[0m \u001b[43m    \u001b[49m\u001b[43mepochs\u001b[49m\u001b[38;5;241;43m=\u001b[39;49m\u001b[43mepochs\u001b[49m\u001b[43m,\u001b[49m\n\u001b[0;32m     11\u001b[0m \u001b[43m    \u001b[49m\u001b[43mvalidation_data\u001b[49m\u001b[38;5;241;43m=\u001b[39;49m\u001b[43m(\u001b[49m\u001b[43mx_val\u001b[49m\u001b[43m,\u001b[49m\u001b[43m \u001b[49m\u001b[43my_val\u001b[49m\u001b[43m)\u001b[49m\u001b[43m,\u001b[49m\n\u001b[0;32m     12\u001b[0m \u001b[43m    \u001b[49m\u001b[43mshuffle\u001b[49m\u001b[38;5;241;43m=\u001b[39;49m\u001b[38;5;28;43;01mTrue\u001b[39;49;00m\u001b[43m,\u001b[49m\n\u001b[0;32m     13\u001b[0m \u001b[43m    \u001b[49m\u001b[43mverbose\u001b[49m\u001b[38;5;241;43m=\u001b[39;49m\u001b[38;5;241;43m2\u001b[39;49m\n\u001b[0;32m     14\u001b[0m \u001b[43m    \u001b[49m\u001b[38;5;66;43;03m# Uncomment the following lines to use callbacks for early stopping and model checkpointing\u001b[39;49;00m\n\u001b[0;32m     15\u001b[0m \u001b[43m    \u001b[49m\u001b[38;5;66;43;03m# callbacks=[tf.keras.callbacks.EarlyStopping(monitor='val_loss', patience=200),\u001b[39;49;00m\n\u001b[0;32m     16\u001b[0m \u001b[43m    \u001b[49m\u001b[38;5;66;43;03m#            tf.keras.callbacks.ModelCheckpoint(monitor='val_loss', save_best_only=True, save_weights_only=True,\u001b[39;49;00m\n\u001b[0;32m     17\u001b[0m \u001b[43m    \u001b[49m\u001b[38;5;66;43;03m#                                              filepath=os.path.join(os.getcwd(), \"models/modelweights.hdf5\"))]\u001b[39;49;00m\n\u001b[0;32m     18\u001b[0m \u001b[43m)\u001b[49m\n\u001b[0;32m     20\u001b[0m \u001b[38;5;66;03m# Find the minimum validation loss\u001b[39;00m\n\u001b[0;32m     21\u001b[0m min_val_loss \u001b[38;5;241m=\u001b[39m \u001b[38;5;28mmin\u001b[39m(history\u001b[38;5;241m.\u001b[39mhistory[\u001b[38;5;124m'\u001b[39m\u001b[38;5;124mval_loss\u001b[39m\u001b[38;5;124m'\u001b[39m])\n",
=======
      "Cell \u001b[1;32mIn[72], line 7\u001b[0m\n\u001b[0;32m      4\u001b[0m epochs \u001b[38;5;241m=\u001b[39m \u001b[38;5;241m10\u001b[39m\n\u001b[0;32m      6\u001b[0m \u001b[38;5;66;03m# Train the model with the specified parameters\u001b[39;00m\n\u001b[1;32m----> 7\u001b[0m history \u001b[38;5;241m=\u001b[39m \u001b[43mmodel\u001b[49m\u001b[38;5;241;43m.\u001b[39;49m\u001b[43mfit\u001b[49m\u001b[43m(\u001b[49m\n\u001b[0;32m      8\u001b[0m \u001b[43m    \u001b[49m\u001b[43mx_train\u001b[49m\u001b[43m,\u001b[49m\u001b[43m \u001b[49m\u001b[43my_train\u001b[49m\u001b[43m,\u001b[49m\n\u001b[0;32m      9\u001b[0m \u001b[43m    \u001b[49m\u001b[43mbatch_size\u001b[49m\u001b[38;5;241;43m=\u001b[39;49m\u001b[43mbatch_size\u001b[49m\u001b[43m,\u001b[49m\n\u001b[0;32m     10\u001b[0m \u001b[43m    \u001b[49m\u001b[43mepochs\u001b[49m\u001b[38;5;241;43m=\u001b[39;49m\u001b[43mepochs\u001b[49m\u001b[43m,\u001b[49m\n\u001b[0;32m     11\u001b[0m \u001b[43m    \u001b[49m\u001b[43mvalidation_data\u001b[49m\u001b[38;5;241;43m=\u001b[39;49m\u001b[43m(\u001b[49m\u001b[43mx_val\u001b[49m\u001b[43m,\u001b[49m\u001b[43m \u001b[49m\u001b[43my_val\u001b[49m\u001b[43m)\u001b[49m\u001b[43m,\u001b[49m\n\u001b[0;32m     12\u001b[0m \u001b[43m    \u001b[49m\u001b[43mshuffle\u001b[49m\u001b[38;5;241;43m=\u001b[39;49m\u001b[38;5;28;43;01mTrue\u001b[39;49;00m\u001b[43m,\u001b[49m\n\u001b[0;32m     13\u001b[0m \u001b[43m    \u001b[49m\u001b[43mverbose\u001b[49m\u001b[38;5;241;43m=\u001b[39;49m\u001b[38;5;241;43m2\u001b[39;49m\n\u001b[0;32m     14\u001b[0m \u001b[43m    \u001b[49m\u001b[38;5;66;43;03m# Uncomment the following lines to use callbacks for early stopping and model checkpointing\u001b[39;49;00m\n\u001b[0;32m     15\u001b[0m \u001b[43m    \u001b[49m\u001b[38;5;66;43;03m# callbacks=[tf.keras.callbacks.EarlyStopping(monitor='val_loss', patience=200),\u001b[39;49;00m\n\u001b[0;32m     16\u001b[0m \u001b[43m    \u001b[49m\u001b[38;5;66;43;03m#            tf.keras.callbacks.ModelCheckpoint(monitor='val_loss', save_best_only=True, save_weights_only=True,\u001b[39;49;00m\n\u001b[0;32m     17\u001b[0m \u001b[43m    \u001b[49m\u001b[38;5;66;43;03m#                                              filepath=os.path.join(os.getcwd(), \"models/modelweights.hdf5\"))]\u001b[39;49;00m\n\u001b[0;32m     18\u001b[0m \u001b[43m)\u001b[49m\n\u001b[0;32m     20\u001b[0m \u001b[38;5;66;03m# Find the minimum validation loss\u001b[39;00m\n\u001b[0;32m     21\u001b[0m min_val_loss \u001b[38;5;241m=\u001b[39m \u001b[38;5;28mmin\u001b[39m(history\u001b[38;5;241m.\u001b[39mhistory[\u001b[38;5;124m'\u001b[39m\u001b[38;5;124mval_loss\u001b[39m\u001b[38;5;124m'\u001b[39m])\n",
>>>>>>> origin/Haris
      "File \u001b[1;32mc:\\Users\\chari\\miniconda3\\envs\\tf-gpu-cuda9\\lib\\site-packages\\tensorflow\\python\\keras\\engine\\training.py:108\u001b[0m, in \u001b[0;36menable_multi_worker.<locals>._method_wrapper\u001b[1;34m(self, *args, **kwargs)\u001b[0m\n\u001b[0;32m    106\u001b[0m \u001b[38;5;28;01mdef\u001b[39;00m \u001b[38;5;21m_method_wrapper\u001b[39m(\u001b[38;5;28mself\u001b[39m, \u001b[38;5;241m*\u001b[39margs, \u001b[38;5;241m*\u001b[39m\u001b[38;5;241m*\u001b[39mkwargs):\n\u001b[0;32m    107\u001b[0m   \u001b[38;5;28;01mif\u001b[39;00m \u001b[38;5;129;01mnot\u001b[39;00m \u001b[38;5;28mself\u001b[39m\u001b[38;5;241m.\u001b[39m_in_multi_worker_mode():  \u001b[38;5;66;03m# pylint: disable=protected-access\u001b[39;00m\n\u001b[1;32m--> 108\u001b[0m     \u001b[38;5;28;01mreturn\u001b[39;00m \u001b[43mmethod\u001b[49m\u001b[43m(\u001b[49m\u001b[38;5;28;43mself\u001b[39;49m\u001b[43m,\u001b[49m\u001b[43m \u001b[49m\u001b[38;5;241;43m*\u001b[39;49m\u001b[43margs\u001b[49m\u001b[43m,\u001b[49m\u001b[43m \u001b[49m\u001b[38;5;241;43m*\u001b[39;49m\u001b[38;5;241;43m*\u001b[39;49m\u001b[43mkwargs\u001b[49m\u001b[43m)\u001b[49m\n\u001b[0;32m    110\u001b[0m   \u001b[38;5;66;03m# Running inside `run_distribute_coordinator` already.\u001b[39;00m\n\u001b[0;32m    111\u001b[0m   \u001b[38;5;28;01mif\u001b[39;00m dc_context\u001b[38;5;241m.\u001b[39mget_current_worker_context():\n",
      "File \u001b[1;32mc:\\Users\\chari\\miniconda3\\envs\\tf-gpu-cuda9\\lib\\site-packages\\tensorflow\\python\\keras\\engine\\training.py:1098\u001b[0m, in \u001b[0;36mModel.fit\u001b[1;34m(self, x, y, batch_size, epochs, verbose, callbacks, validation_split, validation_data, shuffle, class_weight, sample_weight, initial_epoch, steps_per_epoch, validation_steps, validation_batch_size, validation_freq, max_queue_size, workers, use_multiprocessing)\u001b[0m\n\u001b[0;32m   1091\u001b[0m \u001b[38;5;28;01mwith\u001b[39;00m trace\u001b[38;5;241m.\u001b[39mTrace(\n\u001b[0;32m   1092\u001b[0m     \u001b[38;5;124m'\u001b[39m\u001b[38;5;124mTraceContext\u001b[39m\u001b[38;5;124m'\u001b[39m,\n\u001b[0;32m   1093\u001b[0m     graph_type\u001b[38;5;241m=\u001b[39m\u001b[38;5;124m'\u001b[39m\u001b[38;5;124mtrain\u001b[39m\u001b[38;5;124m'\u001b[39m,\n\u001b[0;32m   1094\u001b[0m     epoch_num\u001b[38;5;241m=\u001b[39mepoch,\n\u001b[0;32m   1095\u001b[0m     step_num\u001b[38;5;241m=\u001b[39mstep,\n\u001b[0;32m   1096\u001b[0m     batch_size\u001b[38;5;241m=\u001b[39mbatch_size):\n\u001b[0;32m   1097\u001b[0m   callbacks\u001b[38;5;241m.\u001b[39mon_train_batch_begin(step)\n\u001b[1;32m-> 1098\u001b[0m   tmp_logs \u001b[38;5;241m=\u001b[39m \u001b[43mtrain_function\u001b[49m\u001b[43m(\u001b[49m\u001b[43miterator\u001b[49m\u001b[43m)\u001b[49m\n\u001b[0;32m   1099\u001b[0m   \u001b[38;5;28;01mif\u001b[39;00m data_handler\u001b[38;5;241m.\u001b[39mshould_sync:\n\u001b[0;32m   1100\u001b[0m     context\u001b[38;5;241m.\u001b[39masync_wait()\n",
      "File \u001b[1;32mc:\\Users\\chari\\miniconda3\\envs\\tf-gpu-cuda9\\lib\\site-packages\\tensorflow\\python\\eager\\def_function.py:780\u001b[0m, in \u001b[0;36mFunction.__call__\u001b[1;34m(self, *args, **kwds)\u001b[0m\n\u001b[0;32m    778\u001b[0m \u001b[38;5;28;01melse\u001b[39;00m:\n\u001b[0;32m    779\u001b[0m   compiler \u001b[38;5;241m=\u001b[39m \u001b[38;5;124m\"\u001b[39m\u001b[38;5;124mnonXla\u001b[39m\u001b[38;5;124m\"\u001b[39m\n\u001b[1;32m--> 780\u001b[0m   result \u001b[38;5;241m=\u001b[39m \u001b[38;5;28;43mself\u001b[39;49m\u001b[38;5;241;43m.\u001b[39;49m\u001b[43m_call\u001b[49m\u001b[43m(\u001b[49m\u001b[38;5;241;43m*\u001b[39;49m\u001b[43margs\u001b[49m\u001b[43m,\u001b[49m\u001b[43m \u001b[49m\u001b[38;5;241;43m*\u001b[39;49m\u001b[38;5;241;43m*\u001b[39;49m\u001b[43mkwds\u001b[49m\u001b[43m)\u001b[49m\n\u001b[0;32m    782\u001b[0m new_tracing_count \u001b[38;5;241m=\u001b[39m \u001b[38;5;28mself\u001b[39m\u001b[38;5;241m.\u001b[39m_get_tracing_count()\n\u001b[0;32m    783\u001b[0m without_tracing \u001b[38;5;241m=\u001b[39m (tracing_count \u001b[38;5;241m==\u001b[39m new_tracing_count)\n",
      "File \u001b[1;32mc:\\Users\\chari\\miniconda3\\envs\\tf-gpu-cuda9\\lib\\site-packages\\tensorflow\\python\\eager\\def_function.py:807\u001b[0m, in \u001b[0;36mFunction._call\u001b[1;34m(self, *args, **kwds)\u001b[0m\n\u001b[0;32m    804\u001b[0m   \u001b[38;5;28mself\u001b[39m\u001b[38;5;241m.\u001b[39m_lock\u001b[38;5;241m.\u001b[39mrelease()\n\u001b[0;32m    805\u001b[0m   \u001b[38;5;66;03m# In this case we have created variables on the first call, so we run the\u001b[39;00m\n\u001b[0;32m    806\u001b[0m   \u001b[38;5;66;03m# defunned version which is guaranteed to never create variables.\u001b[39;00m\n\u001b[1;32m--> 807\u001b[0m   \u001b[38;5;28;01mreturn\u001b[39;00m \u001b[38;5;28;43mself\u001b[39;49m\u001b[38;5;241;43m.\u001b[39;49m\u001b[43m_stateless_fn\u001b[49m\u001b[43m(\u001b[49m\u001b[38;5;241;43m*\u001b[39;49m\u001b[43margs\u001b[49m\u001b[43m,\u001b[49m\u001b[43m \u001b[49m\u001b[38;5;241;43m*\u001b[39;49m\u001b[38;5;241;43m*\u001b[39;49m\u001b[43mkwds\u001b[49m\u001b[43m)\u001b[49m  \u001b[38;5;66;03m# pylint: disable=not-callable\u001b[39;00m\n\u001b[0;32m    808\u001b[0m \u001b[38;5;28;01melif\u001b[39;00m \u001b[38;5;28mself\u001b[39m\u001b[38;5;241m.\u001b[39m_stateful_fn \u001b[38;5;129;01mis\u001b[39;00m \u001b[38;5;129;01mnot\u001b[39;00m \u001b[38;5;28;01mNone\u001b[39;00m:\n\u001b[0;32m    809\u001b[0m   \u001b[38;5;66;03m# Release the lock early so that multiple threads can perform the call\u001b[39;00m\n\u001b[0;32m    810\u001b[0m   \u001b[38;5;66;03m# in parallel.\u001b[39;00m\n\u001b[0;32m    811\u001b[0m   \u001b[38;5;28mself\u001b[39m\u001b[38;5;241m.\u001b[39m_lock\u001b[38;5;241m.\u001b[39mrelease()\n",
      "File \u001b[1;32mc:\\Users\\chari\\miniconda3\\envs\\tf-gpu-cuda9\\lib\\site-packages\\tensorflow\\python\\eager\\function.py:2829\u001b[0m, in \u001b[0;36mFunction.__call__\u001b[1;34m(self, *args, **kwargs)\u001b[0m\n\u001b[0;32m   2827\u001b[0m \u001b[38;5;28;01mwith\u001b[39;00m \u001b[38;5;28mself\u001b[39m\u001b[38;5;241m.\u001b[39m_lock:\n\u001b[0;32m   2828\u001b[0m   graph_function, args, kwargs \u001b[38;5;241m=\u001b[39m \u001b[38;5;28mself\u001b[39m\u001b[38;5;241m.\u001b[39m_maybe_define_function(args, kwargs)\n\u001b[1;32m-> 2829\u001b[0m \u001b[38;5;28;01mreturn\u001b[39;00m \u001b[43mgraph_function\u001b[49m\u001b[38;5;241;43m.\u001b[39;49m\u001b[43m_filtered_call\u001b[49m\u001b[43m(\u001b[49m\u001b[43margs\u001b[49m\u001b[43m,\u001b[49m\u001b[43m \u001b[49m\u001b[43mkwargs\u001b[49m\u001b[43m)\u001b[49m\n",
      "File \u001b[1;32mc:\\Users\\chari\\miniconda3\\envs\\tf-gpu-cuda9\\lib\\site-packages\\tensorflow\\python\\eager\\function.py:1843\u001b[0m, in \u001b[0;36mConcreteFunction._filtered_call\u001b[1;34m(self, args, kwargs, cancellation_manager)\u001b[0m\n\u001b[0;32m   1827\u001b[0m \u001b[38;5;28;01mdef\u001b[39;00m \u001b[38;5;21m_filtered_call\u001b[39m(\u001b[38;5;28mself\u001b[39m, args, kwargs, cancellation_manager\u001b[38;5;241m=\u001b[39m\u001b[38;5;28;01mNone\u001b[39;00m):\n\u001b[0;32m   1828\u001b[0m \u001b[38;5;250m  \u001b[39m\u001b[38;5;124;03m\"\"\"Executes the function, filtering arguments from the Python function.\u001b[39;00m\n\u001b[0;32m   1829\u001b[0m \n\u001b[0;32m   1830\u001b[0m \u001b[38;5;124;03m  Objects aside from Tensors, CompositeTensors, and Variables are ignored.\u001b[39;00m\n\u001b[1;32m   (...)\u001b[0m\n\u001b[0;32m   1841\u001b[0m \u001b[38;5;124;03m    `args` and `kwargs`.\u001b[39;00m\n\u001b[0;32m   1842\u001b[0m \u001b[38;5;124;03m  \"\"\"\u001b[39;00m\n\u001b[1;32m-> 1843\u001b[0m   \u001b[38;5;28;01mreturn\u001b[39;00m \u001b[38;5;28;43mself\u001b[39;49m\u001b[38;5;241;43m.\u001b[39;49m\u001b[43m_call_flat\u001b[49m\u001b[43m(\u001b[49m\n\u001b[0;32m   1844\u001b[0m \u001b[43m      \u001b[49m\u001b[43m[\u001b[49m\u001b[43mt\u001b[49m\u001b[43m \u001b[49m\u001b[38;5;28;43;01mfor\u001b[39;49;00m\u001b[43m \u001b[49m\u001b[43mt\u001b[49m\u001b[43m \u001b[49m\u001b[38;5;129;43;01min\u001b[39;49;00m\u001b[43m \u001b[49m\u001b[43mnest\u001b[49m\u001b[38;5;241;43m.\u001b[39;49m\u001b[43mflatten\u001b[49m\u001b[43m(\u001b[49m\u001b[43m(\u001b[49m\u001b[43margs\u001b[49m\u001b[43m,\u001b[49m\u001b[43m \u001b[49m\u001b[43mkwargs\u001b[49m\u001b[43m)\u001b[49m\u001b[43m,\u001b[49m\u001b[43m \u001b[49m\u001b[43mexpand_composites\u001b[49m\u001b[38;5;241;43m=\u001b[39;49m\u001b[38;5;28;43;01mTrue\u001b[39;49;00m\u001b[43m)\u001b[49m\n\u001b[0;32m   1845\u001b[0m \u001b[43m       \u001b[49m\u001b[38;5;28;43;01mif\u001b[39;49;00m\u001b[43m \u001b[49m\u001b[38;5;28;43misinstance\u001b[39;49m\u001b[43m(\u001b[49m\u001b[43mt\u001b[49m\u001b[43m,\u001b[49m\u001b[43m \u001b[49m\u001b[43m(\u001b[49m\u001b[43mops\u001b[49m\u001b[38;5;241;43m.\u001b[39;49m\u001b[43mTensor\u001b[49m\u001b[43m,\u001b[49m\n\u001b[0;32m   1846\u001b[0m \u001b[43m                         \u001b[49m\u001b[43mresource_variable_ops\u001b[49m\u001b[38;5;241;43m.\u001b[39;49m\u001b[43mBaseResourceVariable\u001b[49m\u001b[43m)\u001b[49m\u001b[43m)\u001b[49m\u001b[43m]\u001b[49m\u001b[43m,\u001b[49m\n\u001b[0;32m   1847\u001b[0m \u001b[43m      \u001b[49m\u001b[43mcaptured_inputs\u001b[49m\u001b[38;5;241;43m=\u001b[39;49m\u001b[38;5;28;43mself\u001b[39;49m\u001b[38;5;241;43m.\u001b[39;49m\u001b[43mcaptured_inputs\u001b[49m\u001b[43m,\u001b[49m\n\u001b[0;32m   1848\u001b[0m \u001b[43m      \u001b[49m\u001b[43mcancellation_manager\u001b[49m\u001b[38;5;241;43m=\u001b[39;49m\u001b[43mcancellation_manager\u001b[49m\u001b[43m)\u001b[49m\n",
      "File \u001b[1;32mc:\\Users\\chari\\miniconda3\\envs\\tf-gpu-cuda9\\lib\\site-packages\\tensorflow\\python\\eager\\function.py:1923\u001b[0m, in \u001b[0;36mConcreteFunction._call_flat\u001b[1;34m(self, args, captured_inputs, cancellation_manager)\u001b[0m\n\u001b[0;32m   1918\u001b[0m possible_gradient_type \u001b[38;5;241m=\u001b[39m (\n\u001b[0;32m   1919\u001b[0m     pywrap_tfe\u001b[38;5;241m.\u001b[39mTFE_Py_TapeSetPossibleGradientTypes(args))\n\u001b[0;32m   1920\u001b[0m \u001b[38;5;28;01mif\u001b[39;00m (possible_gradient_type \u001b[38;5;241m==\u001b[39m _POSSIBLE_GRADIENT_TYPES_NONE\n\u001b[0;32m   1921\u001b[0m     \u001b[38;5;129;01mand\u001b[39;00m executing_eagerly):\n\u001b[0;32m   1922\u001b[0m   \u001b[38;5;66;03m# No tape is watching; skip to running the function.\u001b[39;00m\n\u001b[1;32m-> 1923\u001b[0m   \u001b[38;5;28;01mreturn\u001b[39;00m \u001b[38;5;28mself\u001b[39m\u001b[38;5;241m.\u001b[39m_build_call_outputs(\u001b[38;5;28;43mself\u001b[39;49m\u001b[38;5;241;43m.\u001b[39;49m\u001b[43m_inference_function\u001b[49m\u001b[38;5;241;43m.\u001b[39;49m\u001b[43mcall\u001b[49m\u001b[43m(\u001b[49m\n\u001b[0;32m   1924\u001b[0m \u001b[43m      \u001b[49m\u001b[43mctx\u001b[49m\u001b[43m,\u001b[49m\u001b[43m \u001b[49m\u001b[43margs\u001b[49m\u001b[43m,\u001b[49m\u001b[43m \u001b[49m\u001b[43mcancellation_manager\u001b[49m\u001b[38;5;241;43m=\u001b[39;49m\u001b[43mcancellation_manager\u001b[49m\u001b[43m)\u001b[49m)\n\u001b[0;32m   1925\u001b[0m forward_backward \u001b[38;5;241m=\u001b[39m \u001b[38;5;28mself\u001b[39m\u001b[38;5;241m.\u001b[39m_select_forward_and_backward_functions(\n\u001b[0;32m   1926\u001b[0m     args,\n\u001b[0;32m   1927\u001b[0m     possible_gradient_type,\n\u001b[0;32m   1928\u001b[0m     executing_eagerly)\n\u001b[0;32m   1929\u001b[0m forward_function, args_with_tangents \u001b[38;5;241m=\u001b[39m forward_backward\u001b[38;5;241m.\u001b[39mforward()\n",
      "File \u001b[1;32mc:\\Users\\chari\\miniconda3\\envs\\tf-gpu-cuda9\\lib\\site-packages\\tensorflow\\python\\eager\\function.py:545\u001b[0m, in \u001b[0;36m_EagerDefinedFunction.call\u001b[1;34m(self, ctx, args, cancellation_manager)\u001b[0m\n\u001b[0;32m    543\u001b[0m \u001b[38;5;28;01mwith\u001b[39;00m _InterpolateFunctionError(\u001b[38;5;28mself\u001b[39m):\n\u001b[0;32m    544\u001b[0m   \u001b[38;5;28;01mif\u001b[39;00m cancellation_manager \u001b[38;5;129;01mis\u001b[39;00m \u001b[38;5;28;01mNone\u001b[39;00m:\n\u001b[1;32m--> 545\u001b[0m     outputs \u001b[38;5;241m=\u001b[39m \u001b[43mexecute\u001b[49m\u001b[38;5;241;43m.\u001b[39;49m\u001b[43mexecute\u001b[49m\u001b[43m(\u001b[49m\n\u001b[0;32m    546\u001b[0m \u001b[43m        \u001b[49m\u001b[38;5;28;43mstr\u001b[39;49m\u001b[43m(\u001b[49m\u001b[38;5;28;43mself\u001b[39;49m\u001b[38;5;241;43m.\u001b[39;49m\u001b[43msignature\u001b[49m\u001b[38;5;241;43m.\u001b[39;49m\u001b[43mname\u001b[49m\u001b[43m)\u001b[49m\u001b[43m,\u001b[49m\n\u001b[0;32m    547\u001b[0m \u001b[43m        \u001b[49m\u001b[43mnum_outputs\u001b[49m\u001b[38;5;241;43m=\u001b[39;49m\u001b[38;5;28;43mself\u001b[39;49m\u001b[38;5;241;43m.\u001b[39;49m\u001b[43m_num_outputs\u001b[49m\u001b[43m,\u001b[49m\n\u001b[0;32m    548\u001b[0m \u001b[43m        \u001b[49m\u001b[43minputs\u001b[49m\u001b[38;5;241;43m=\u001b[39;49m\u001b[43margs\u001b[49m\u001b[43m,\u001b[49m\n\u001b[0;32m    549\u001b[0m \u001b[43m        \u001b[49m\u001b[43mattrs\u001b[49m\u001b[38;5;241;43m=\u001b[39;49m\u001b[43mattrs\u001b[49m\u001b[43m,\u001b[49m\n\u001b[0;32m    550\u001b[0m \u001b[43m        \u001b[49m\u001b[43mctx\u001b[49m\u001b[38;5;241;43m=\u001b[39;49m\u001b[43mctx\u001b[49m\u001b[43m)\u001b[49m\n\u001b[0;32m    551\u001b[0m   \u001b[38;5;28;01melse\u001b[39;00m:\n\u001b[0;32m    552\u001b[0m     outputs \u001b[38;5;241m=\u001b[39m execute\u001b[38;5;241m.\u001b[39mexecute_with_cancellation(\n\u001b[0;32m    553\u001b[0m         \u001b[38;5;28mstr\u001b[39m(\u001b[38;5;28mself\u001b[39m\u001b[38;5;241m.\u001b[39msignature\u001b[38;5;241m.\u001b[39mname),\n\u001b[0;32m    554\u001b[0m         num_outputs\u001b[38;5;241m=\u001b[39m\u001b[38;5;28mself\u001b[39m\u001b[38;5;241m.\u001b[39m_num_outputs,\n\u001b[1;32m   (...)\u001b[0m\n\u001b[0;32m    557\u001b[0m         ctx\u001b[38;5;241m=\u001b[39mctx,\n\u001b[0;32m    558\u001b[0m         cancellation_manager\u001b[38;5;241m=\u001b[39mcancellation_manager)\n",
      "File \u001b[1;32mc:\\Users\\chari\\miniconda3\\envs\\tf-gpu-cuda9\\lib\\site-packages\\tensorflow\\python\\eager\\execute.py:59\u001b[0m, in \u001b[0;36mquick_execute\u001b[1;34m(op_name, num_outputs, inputs, attrs, ctx, name)\u001b[0m\n\u001b[0;32m     57\u001b[0m \u001b[38;5;28;01mtry\u001b[39;00m:\n\u001b[0;32m     58\u001b[0m   ctx\u001b[38;5;241m.\u001b[39mensure_initialized()\n\u001b[1;32m---> 59\u001b[0m   tensors \u001b[38;5;241m=\u001b[39m \u001b[43mpywrap_tfe\u001b[49m\u001b[38;5;241;43m.\u001b[39;49m\u001b[43mTFE_Py_Execute\u001b[49m\u001b[43m(\u001b[49m\u001b[43mctx\u001b[49m\u001b[38;5;241;43m.\u001b[39;49m\u001b[43m_handle\u001b[49m\u001b[43m,\u001b[49m\u001b[43m \u001b[49m\u001b[43mdevice_name\u001b[49m\u001b[43m,\u001b[49m\u001b[43m \u001b[49m\u001b[43mop_name\u001b[49m\u001b[43m,\u001b[49m\n\u001b[0;32m     60\u001b[0m \u001b[43m                                      \u001b[49m\u001b[43minputs\u001b[49m\u001b[43m,\u001b[49m\u001b[43m \u001b[49m\u001b[43mattrs\u001b[49m\u001b[43m,\u001b[49m\u001b[43m \u001b[49m\u001b[43mnum_outputs\u001b[49m\u001b[43m)\u001b[49m\n\u001b[0;32m     61\u001b[0m \u001b[38;5;28;01mexcept\u001b[39;00m core\u001b[38;5;241m.\u001b[39m_NotOkStatusException \u001b[38;5;28;01mas\u001b[39;00m e:\n\u001b[0;32m     62\u001b[0m   \u001b[38;5;28;01mif\u001b[39;00m name \u001b[38;5;129;01mis\u001b[39;00m \u001b[38;5;129;01mnot\u001b[39;00m \u001b[38;5;28;01mNone\u001b[39;00m:\n",
      "\u001b[1;31mKeyboardInterrupt\u001b[0m: "
<<<<<<< HEAD
>>>>>>>>> Temporary merge branch 2
=======
>>>>>>> origin/Haris
     ]
    }
   ],
   "source": [
    "# Training ----------------------------------------------------------------\n",
    "# Set batch size and number of epochs\n",
    "batch_size = 10\n",
    "epochs = 10\n",
    "\n",
    "# Train the model with the specified parameters\n",
    "history = model.fit(\n",
    "    x_train, y_train,\n",
    "    batch_size=batch_size,\n",
    "    epochs=epochs,\n",
    "    validation_data=(x_val, y_val),\n",
    "    shuffle=True,\n",
    "    verbose=2\n",
    "    # Uncomment the following lines to use callbacks for early stopping and model checkpointing\n",
    "    # callbacks=[tf.keras.callbacks.EarlyStopping(monitor='val_loss', patience=200),\n",
    "    #            tf.keras.callbacks.ModelCheckpoint(monitor='val_loss', save_best_only=True, save_weights_only=True,\n",
    "    #                                              filepath=os.path.join(os.getcwd(), \"models/modelweights.hdf5\"))]\n",
    ")\n",
    "\n",
    "# Find the minimum validation loss\n",
    "min_val_loss = min(history.history['val_loss'])\n",
    "\n",
    "# Note: Python does not have a direct equivalent of R's Sys.time() - time\n",
    "# You would need to manually track the start and end time using datetime or time module\n",
    "\n",
    "# Find the epoch with the minimum validation loss\n",
    "best_epoch = history.history['val_loss'].index(min_val_loss)\n",
    "\n",
    "# Save and load model weights\n",
    "model.save_weights(os.path.join(os.getcwd(), \"models/modelweights.weights.h5\"))\n",
    "model.load_weights(os.path.join(os.getcwd(), \"models/modelweights.weights.h5\"))\n",
    "\n",
    "# Create a new model for predictions using the 'dist_param' layer\n",
    "meanmodel = tf.keras.Model(\n",
    "    inputs=model.input,\n",
    "    outputs=model.get_layer(\"dist_param\").output\n",
    ")\n",
    "\n",
    "# Save and load the mean model\n",
    "meanmodel.save(os.path.join(os.getcwd(), \"models/meanmodel.h5\"))\n",
    "meanmodel = tf.keras.models.load_model(os.path.join(os.getcwd(), \"models/meanmodel.h5\"))\n",
    "\n",
    "# Create a DataFrame for holdout predictions and observations\n",
    "holdout = pd.DataFrame({'obs': y_test, 'preds': meanmodel.predict(x_test)[:, 0]})\n",
    "\n",
    "# Calculate and print R squared and RMSE\n",
    "print(f\"R squared = {round(np.corrcoef(holdout['preds'], holdout['obs'])[0, 1]**2, 3)}\")\n",
    "print(f\"RMSE = {round(np.sqrt(np.mean((holdout['preds'] - holdout['obs'])**2)), 3)}\")\n"
   ]
  },
  {
   "cell_type": "code",
<<<<<<< HEAD
<<<<<<<<< Temporary merge branch 1
   "execution_count": 50,
=======
   "execution_count": 57,
   "metadata": {},
   "outputs": [
    {
     "data": {
      "text/plain": [
       "(78854, 1, 32, 32)"
      ]
     },
     "execution_count": 57,
     "metadata": {},
     "output_type": "execute_result"
    }
   ],
   "source": [
    "np.shape(imgs_ann_train)"
   ]
  },
  {
   "cell_type": "code",
   "execution_count": 75,
>>>>>>> origin/Haris
   "metadata": {},
   "outputs": [
    {
     "name": "stdout",
     "output_type": "stream",
     "text": [
      "R² Score: nan\n"
     ]
    }
   ],
   "source": [
    "# Calculate and print R² score using numpy's corrcoef\n",
    "try:\n",
    "\tr2_score = np.corrcoef(holdout['preds'], holdout['obs'])[0, 1]**2\n",
    "\tprint(f\"R² Score: {r2_score:.3f}\")\n",
    "except Exception as e:\n",
    "\tprint(f\"Error calculating R² score: {e}\")"
   ]
  },
  {
   "cell_type": "code",
<<<<<<< HEAD
   "execution_count": 20,
=========
   "execution_count": 66,
>>>>>>>>> Temporary merge branch 2
=======
   "execution_count": 59,
>>>>>>> origin/Haris
   "metadata": {},
   "outputs": [
    {
     "name": "stdout",
     "output_type": "stream",
     "text": [
      "GPU is not available\n"
     ]
    }
   ],
   "source": [
    "if tf.config.list_physical_devices('GPU'):\n",
    "    print(\"GPU is available\")\n",
    "else:\n",
    "    print(\"GPU is not available\")"
   ]
  },
  {
   "cell_type": "code",
   "execution_count": 60,
   "metadata": {},
   "outputs": [
    {
     "ename": "ModuleNotFoundError",
     "evalue": "No module named 'seaborn'",
     "output_type": "error",
     "traceback": [
      "\u001b[1;31m---------------------------------------------------------------------------\u001b[0m",
      "\u001b[1;31mModuleNotFoundError\u001b[0m                       Traceback (most recent call last)",
      "Cell \u001b[1;32mIn[60], line 3\u001b[0m\n\u001b[0;32m      1\u001b[0m \u001b[38;5;66;03m# Plot observed vs predicted values\u001b[39;00m\n\u001b[0;32m      2\u001b[0m \u001b[38;5;28;01mimport\u001b[39;00m \u001b[38;5;21;01mmatplotlib\u001b[39;00m\u001b[38;5;21;01m.\u001b[39;00m\u001b[38;5;21;01mpyplot\u001b[39;00m \u001b[38;5;28;01mas\u001b[39;00m \u001b[38;5;21;01mplt\u001b[39;00m\n\u001b[1;32m----> 3\u001b[0m \u001b[38;5;28;01mimport\u001b[39;00m \u001b[38;5;21;01mseaborn\u001b[39;00m \u001b[38;5;28;01mas\u001b[39;00m \u001b[38;5;21;01msns\u001b[39;00m\n\u001b[0;32m      5\u001b[0m plt\u001b[38;5;241m.\u001b[39mfigure(figsize\u001b[38;5;241m=\u001b[39m(\u001b[38;5;241m8\u001b[39m, \u001b[38;5;241m8\u001b[39m))\n\u001b[0;32m      6\u001b[0m sns\u001b[38;5;241m.\u001b[39mscatterplot(x\u001b[38;5;241m=\u001b[39m\u001b[38;5;124m'\u001b[39m\u001b[38;5;124mobs\u001b[39m\u001b[38;5;124m'\u001b[39m, y\u001b[38;5;241m=\u001b[39m\u001b[38;5;124m'\u001b[39m\u001b[38;5;124mpreds\u001b[39m\u001b[38;5;124m'\u001b[39m, data\u001b[38;5;241m=\u001b[39mholdout, alpha\u001b[38;5;241m=\u001b[39m\u001b[38;5;241m0.1\u001b[39m)\n",
      "\u001b[1;31mModuleNotFoundError\u001b[0m: No module named 'seaborn'"
     ]
    }
   ],
   "source": [
    "\n",
    "# Plot observed vs predicted values\n",
    "import matplotlib.pyplot as plt\n",
    "import seaborn as sns\n",
    "\n",
    "plt.figure(figsize=(8, 8))\n",
    "sns.scatterplot(x='obs', y='preds', data=holdout, alpha=0.1)\n",
    "plt.plot([holdout['obs'].min(), holdout['obs'].max()], [holdout['obs'].min(), holdout['obs'].max()], 'k--')\n",
    "plt.xlabel(f\"Observed log({elem})\" if logtrans else f\"observed {elem}\")\n",
    "plt.ylabel(f\"Predicted log({elem})\" if logtrans else f\"predicted {elem}\")\n",
    "plt.title(f\"R² = {round(np.corrcoef(holdout['preds'], holdout['obs'])[0, 1]**2, 2)}     RMSE = {round(np.sqrt(np.mean((holdout['preds'] - holdout['obs'])**2)), 2)}\")\n",
    "plt.gca().set_aspect('equal', adjustable='box')\n",
    "plt.savefig(f\"plots/{elem}_mean_holdout_{round(np.corrcoef(holdout['preds'], holdout['obs'])[0, 1]**2, 2)*100}.png\", dpi=300)\n",
    "\n",
    "# Prepare training history data for plotting\n",
    "trainhist = pd.DataFrame(history.history)[['loss', 'val_loss']]\n",
    "trainhist.columns = ['training', 'testing']\n",
    "trainhist['epoch'] = range(1, len(trainhist) + 1)\n",
    "\n",
    "# Melt the training history data for plotting\n",
    "trainhist_melted = trainhist.melt(id_vars='epoch', var_name='dataset', value_name='NLL')\n",
    "\n",
    "# Plot training and validation loss over epochs\n",
    "plt.figure(figsize=(10, 5))\n",
    "sns.lineplot(x='epoch', y='NLL', hue='dataset', data=trainhist_melted)\n",
    "plt.ylim(0, trainhist['testing'].quantile(0.999))\n",
    "plt.savefig(f\"plots/{elem}_training_{round(np.corrcoef(holdout['preds'], holdout['obs'])[0, 1]**2, 2)*100}.png\", dpi=300)\n"
   ]
  }
 ],
 "metadata": {
  "kernelspec": {
   "display_name": "Python 3",
   "language": "python",
   "name": "python3"
  },
  "language_info": {
   "codemirror_mode": {
    "name": "ipython",
    "version": 3
   },
   "file_extension": ".py",
   "mimetype": "text/x-python",
   "name": "python",
   "nbconvert_exporter": "python",
   "pygments_lexer": "ipython3",
   "version": "3.9.21"
  }
 },
 "nbformat": 4,
 "nbformat_minor": 2
}
